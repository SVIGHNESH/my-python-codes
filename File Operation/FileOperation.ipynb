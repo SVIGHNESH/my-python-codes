{
 "cells": [
  {
   "cell_type": "code",
   "execution_count": 16,
   "metadata": {},
   "outputs": [
    {
     "name": "stdout",
     "output_type": "stream",
     "text": [
      "0\n"
     ]
    }
   ],
   "source": [
    "f = open(\"/home/vighnesh/Desktop/Phython/File Operation/akshat.txt\",\"rb\")\n",
    "\n",
    "print(f.tell())\n",
    "f.close()"
   ]
  },
  {
   "cell_type": "code",
   "execution_count": 17,
   "metadata": {},
   "outputs": [
    {
     "name": "stdout",
     "output_type": "stream",
     "text": [
      "\"this is the first line of the Akshat \n",
      "this is the second line of the Akshat\" has been read and the stream is pointing towards 75\n"
     ]
    }
   ],
   "source": [
    "with open(\"/home/vighnesh/Desktop/Phython/File Operation/akshat.txt\",\"r\") as f:\n",
    "    data = f.read()\n",
    "    d = f.tell()\n",
    "    print(f\"\\\"{data}\\\" has been read and the stream is pointing towards {d}\")"
   ]
  },
  {
   "cell_type": "code",
   "execution_count": 18,
   "metadata": {},
   "outputs": [],
   "source": [
    "with open(\"practice.txt\",\"w\") as f:\n",
    "    words = [\"This is the first line line of the Practice File\\n\",\"This is the second Line of Practice File\\n\",\"This is the third file of the Practice File\\n\"]\n",
    "\n",
    "    f.writelines(words) \n",
    "    "
   ]
  },
  {
   "cell_type": "code",
   "execution_count": 24,
   "metadata": {},
   "outputs": [],
   "source": [
    "with open(\"practice.txt\",\"r+\") as f:\n",
    "    data = f.read()\n",
    "    f.seek(0,0)\n",
    "    replace_string = data.replace(\"Practice\",\"Akshat\")\n",
    "    f.write(replace_string)\n",
    "\n"
   ]
  },
  {
   "cell_type": "code",
   "execution_count": 27,
   "metadata": {},
   "outputs": [
    {
     "name": "stdout",
     "output_type": "stream",
     "text": [
      "Not Found\n"
     ]
    }
   ],
   "source": [
    "with open(\"practice.txt\",\"r\") as f:\n",
    "    data = f.read()\n",
    "    if(data.find(\"lines\") != -1):\n",
    "        print(\"Found\")\n",
    "    else:\n",
    "        print(\"Not Found\")\n",
    "\n",
    "    f.seek(0,0)"
   ]
  },
  {
   "cell_type": "code",
   "execution_count": null,
   "metadata": {},
   "outputs": [
    {
     "name": "stdout",
     "output_type": "stream",
     "text": [
      "12 \n",
      "34 \n",
      "2 \n",
      "36 \n",
      "78 \n",
      "332 \n",
      "6\n"
     ]
    }
   ],
   "source": [
    "count = 0\n",
    "with open(\"comma_separated.txt\",\"r\") as f:\n",
    "    data = f.read()\n",
    "   \n",
    "   \n",
    "    list = data.split(\",\")\n",
    "    for val in list:\n",
    "        if(int(val) % 2 == 0):\n",
    "            print(val,\"\")\n",
    "            count += 1\n",
    "print(count)\n",
    "       \n"
   ]
  },
  {
   "cell_type": "code",
   "execution_count": null,
   "metadata": {},
   "outputs": [],
   "source": []
  }
 ],
 "metadata": {
  "kernelspec": {
   "display_name": "usr",
   "language": "python",
   "name": "python3"
  },
  "language_info": {
   "codemirror_mode": {
    "name": "ipython",
    "version": 3
   },
   "file_extension": ".py",
   "mimetype": "text/x-python",
   "name": "python",
   "nbconvert_exporter": "python",
   "pygments_lexer": "ipython3",
   "version": "3.13.1"
  }
 },
 "nbformat": 4,
 "nbformat_minor": 2
}
