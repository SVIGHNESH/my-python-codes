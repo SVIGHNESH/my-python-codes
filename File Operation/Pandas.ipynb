{
 "cells": [
  {
   "cell_type": "code",
   "execution_count": 1,
   "id": "508d4a86-bd36-4bbe-99d9-6ee51bb87a7b",
   "metadata": {},
   "outputs": [],
   "source": [
    "import numpy as np\n",
    "import pandas as pd\n"
   ]
  },
  {
   "cell_type": "code",
   "execution_count": 2,
   "id": "fdf05e1e-3bf5-4bca-8531-988705b77698",
   "metadata": {},
   "outputs": [],
   "source": [
    "dict1 = {\n",
    "    \"Name\":[\"Vighnesh\",\"Suresh\",\"Ritik\",\"Devang\"],\n",
    "    \"Marks\":[99,78,58,65],\n",
    "    \"City\":[\"Shahjahanpur\",\"Khadharpur\",\"Lazmi Nagar\",\"Subhash\"],\n",
    "}"
   ]
  },
  {
   "cell_type": "code",
   "execution_count": 3,
   "id": "f8855a05-1650-4639-9ab1-dfdcfbcbe86b",
   "metadata": {},
   "outputs": [],
   "source": [
    "df = pd.DataFrame(dict1)"
   ]
  },
  {
   "cell_type": "code",
   "execution_count": 4,
   "id": "e55d4451-dbf0-4a5b-89fd-45ec52e9d9c6",
   "metadata": {
    "scrolled": true
   },
   "outputs": [
    {
     "data": {
      "text/html": [
       "<div>\n",
       "<style scoped>\n",
       "    .dataframe tbody tr th:only-of-type {\n",
       "        vertical-align: middle;\n",
       "    }\n",
       "\n",
       "    .dataframe tbody tr th {\n",
       "        vertical-align: top;\n",
       "    }\n",
       "\n",
       "    .dataframe thead th {\n",
       "        text-align: right;\n",
       "    }\n",
       "</style>\n",
       "<table border=\"1\" class=\"dataframe\">\n",
       "  <thead>\n",
       "    <tr style=\"text-align: right;\">\n",
       "      <th></th>\n",
       "      <th>Name</th>\n",
       "      <th>Marks</th>\n",
       "      <th>City</th>\n",
       "    </tr>\n",
       "  </thead>\n",
       "  <tbody>\n",
       "    <tr>\n",
       "      <th>0</th>\n",
       "      <td>Vighnesh</td>\n",
       "      <td>99</td>\n",
       "      <td>Shahjahanpur</td>\n",
       "    </tr>\n",
       "    <tr>\n",
       "      <th>1</th>\n",
       "      <td>Suresh</td>\n",
       "      <td>78</td>\n",
       "      <td>Khadharpur</td>\n",
       "    </tr>\n",
       "    <tr>\n",
       "      <th>2</th>\n",
       "      <td>Ritik</td>\n",
       "      <td>58</td>\n",
       "      <td>Lazmi Nagar</td>\n",
       "    </tr>\n",
       "    <tr>\n",
       "      <th>3</th>\n",
       "      <td>Devang</td>\n",
       "      <td>65</td>\n",
       "      <td>Subhash</td>\n",
       "    </tr>\n",
       "  </tbody>\n",
       "</table>\n",
       "</div>"
      ],
      "text/plain": [
       "       Name  Marks          City\n",
       "0  Vighnesh     99  Shahjahanpur\n",
       "1    Suresh     78    Khadharpur\n",
       "2     Ritik     58   Lazmi Nagar\n",
       "3    Devang     65       Subhash"
      ]
     },
     "execution_count": 4,
     "metadata": {},
     "output_type": "execute_result"
    }
   ],
   "source": [
    "df"
   ]
  },
  {
   "cell_type": "code",
   "execution_count": 5,
   "id": "d4a61e77-60d4-40ca-814d-461cab3042c2",
   "metadata": {},
   "outputs": [
    {
     "data": {
      "text/html": [
       "<div>\n",
       "<style scoped>\n",
       "    .dataframe tbody tr th:only-of-type {\n",
       "        vertical-align: middle;\n",
       "    }\n",
       "\n",
       "    .dataframe tbody tr th {\n",
       "        vertical-align: top;\n",
       "    }\n",
       "\n",
       "    .dataframe thead th {\n",
       "        text-align: right;\n",
       "    }\n",
       "</style>\n",
       "<table border=\"1\" class=\"dataframe\">\n",
       "  <thead>\n",
       "    <tr style=\"text-align: right;\">\n",
       "      <th></th>\n",
       "      <th>Marks</th>\n",
       "    </tr>\n",
       "  </thead>\n",
       "  <tbody>\n",
       "    <tr>\n",
       "      <th>count</th>\n",
       "      <td>4.000000</td>\n",
       "    </tr>\n",
       "    <tr>\n",
       "      <th>mean</th>\n",
       "      <td>75.000000</td>\n",
       "    </tr>\n",
       "    <tr>\n",
       "      <th>std</th>\n",
       "      <td>18.018509</td>\n",
       "    </tr>\n",
       "    <tr>\n",
       "      <th>min</th>\n",
       "      <td>58.000000</td>\n",
       "    </tr>\n",
       "    <tr>\n",
       "      <th>25%</th>\n",
       "      <td>63.250000</td>\n",
       "    </tr>\n",
       "    <tr>\n",
       "      <th>50%</th>\n",
       "      <td>71.500000</td>\n",
       "    </tr>\n",
       "    <tr>\n",
       "      <th>75%</th>\n",
       "      <td>83.250000</td>\n",
       "    </tr>\n",
       "    <tr>\n",
       "      <th>max</th>\n",
       "      <td>99.000000</td>\n",
       "    </tr>\n",
       "  </tbody>\n",
       "</table>\n",
       "</div>"
      ],
      "text/plain": [
       "           Marks\n",
       "count   4.000000\n",
       "mean   75.000000\n",
       "std    18.018509\n",
       "min    58.000000\n",
       "25%    63.250000\n",
       "50%    71.500000\n",
       "75%    83.250000\n",
       "max    99.000000"
      ]
     },
     "execution_count": 5,
     "metadata": {},
     "output_type": "execute_result"
    }
   ],
   "source": [
    "df.describe()"
   ]
  },
  {
   "cell_type": "code",
   "execution_count": 6,
   "id": "053c4de4-f787-4701-86e0-2e39770eb39e",
   "metadata": {},
   "outputs": [],
   "source": [
    "df.to_csv('First-of-Pandas')"
   ]
  },
  {
   "cell_type": "code",
   "execution_count": 7,
   "id": "e2798836-9ca8-48a7-a68c-2c92fafe8bad",
   "metadata": {},
   "outputs": [],
   "source": [
    "df.to_csv('First-of-Pandas_without_indexs', index=False )"
   ]
  },
  {
   "cell_type": "code",
   "execution_count": 8,
   "id": "2bc93a09-84d3-45f3-95e8-ba77e4307531",
   "metadata": {},
   "outputs": [],
   "source": [
    "Train=pd.read_csv('Train-Names.csv')"
   ]
  },
  {
   "cell_type": "code",
   "execution_count": 9,
   "id": "82562b4f-0a56-4b28-a157-d2d46206a477",
   "metadata": {},
   "outputs": [
    {
     "data": {
      "text/html": [
       "<div>\n",
       "<style scoped>\n",
       "    .dataframe tbody tr th:only-of-type {\n",
       "        vertical-align: middle;\n",
       "    }\n",
       "\n",
       "    .dataframe tbody tr th {\n",
       "        vertical-align: top;\n",
       "    }\n",
       "\n",
       "    .dataframe thead th {\n",
       "        text-align: right;\n",
       "    }\n",
       "</style>\n",
       "<table border=\"1\" class=\"dataframe\">\n",
       "  <thead>\n",
       "    <tr style=\"text-align: right;\">\n",
       "      <th></th>\n",
       "      <th>Unnamed: 0.2</th>\n",
       "      <th>Unnamed: 0.1</th>\n",
       "      <th>Unnamed: 0</th>\n",
       "      <th>Train Name</th>\n",
       "      <th>Train No.</th>\n",
       "      <th>City-To</th>\n",
       "      <th>City-From</th>\n",
       "    </tr>\n",
       "  </thead>\n",
       "  <tbody>\n",
       "    <tr>\n",
       "      <th>0</th>\n",
       "      <td>1</td>\n",
       "      <td>1</td>\n",
       "      <td>1</td>\n",
       "      <td>Bareilly-Banaras-Express</td>\n",
       "      <td>14236</td>\n",
       "      <td>Varanasi</td>\n",
       "      <td>Bareilly</td>\n",
       "    </tr>\n",
       "    <tr>\n",
       "      <th>1</th>\n",
       "      <td>2</td>\n",
       "      <td>2</td>\n",
       "      <td>2</td>\n",
       "      <td>ShaktiNagar Triveni</td>\n",
       "      <td>15076</td>\n",
       "      <td>Shaktinagar</td>\n",
       "      <td>TanakPur</td>\n",
       "    </tr>\n",
       "    <tr>\n",
       "      <th>2</th>\n",
       "      <td>3</td>\n",
       "      <td>3</td>\n",
       "      <td>3</td>\n",
       "      <td>Bareilly-Roza</td>\n",
       "      <td>64176</td>\n",
       "      <td>Roza</td>\n",
       "      <td>Bareilly</td>\n",
       "    </tr>\n",
       "    <tr>\n",
       "      <th>3</th>\n",
       "      <td>4</td>\n",
       "      <td>4</td>\n",
       "      <td>4</td>\n",
       "      <td>Lucknow-Rajya Rani Superfast</td>\n",
       "      <td>22454</td>\n",
       "      <td>Lucknow</td>\n",
       "      <td>Meerut</td>\n",
       "    </tr>\n",
       "  </tbody>\n",
       "</table>\n",
       "</div>"
      ],
      "text/plain": [
       "   Unnamed: 0.2  Unnamed: 0.1  Unnamed: 0                    Train Name  \\\n",
       "0             1             1           1      Bareilly-Banaras-Express   \n",
       "1             2             2           2           ShaktiNagar Triveni   \n",
       "2             3             3           3                 Bareilly-Roza   \n",
       "3             4             4           4  Lucknow-Rajya Rani Superfast   \n",
       "\n",
       "   Train No.      City-To City-From  \n",
       "0      14236     Varanasi  Bareilly  \n",
       "1      15076  Shaktinagar  TanakPur  \n",
       "2      64176         Roza  Bareilly  \n",
       "3      22454      Lucknow    Meerut  "
      ]
     },
     "execution_count": 9,
     "metadata": {},
     "output_type": "execute_result"
    }
   ],
   "source": [
    "Train"
   ]
  },
  {
   "cell_type": "code",
   "execution_count": 10,
   "id": "57f91389-bcc0-444a-b0d4-3be1999b29b8",
   "metadata": {},
   "outputs": [
    {
     "data": {
      "text/plain": [
       "0    Bareilly\n",
       "1    TanakPur\n",
       "2    Bareilly\n",
       "3      Meerut\n",
       "Name: City-From, dtype: object"
      ]
     },
     "execution_count": 10,
     "metadata": {},
     "output_type": "execute_result"
    }
   ],
   "source": [
    "Train['City-From']"
   ]
  },
  {
   "cell_type": "code",
   "execution_count": 11,
   "id": "581d261f-0e1d-4bbc-8a71-a36c1366bd91",
   "metadata": {},
   "outputs": [
    {
     "name": "stderr",
     "output_type": "stream",
     "text": [
      "/tmp/ipykernel_5720/1018625119.py:1: FutureWarning: ChainedAssignmentError: behaviour will change in pandas 3.0!\n",
      "You are setting values through chained assignment. Currently this works in certain cases, but when using Copy-on-Write (which will become the default behaviour in pandas 3.0) this will never work to update the original DataFrame or Series, because the intermediate object on which we are setting values will behave as a copy.\n",
      "A typical example is when you are setting values in a column of a DataFrame, like:\n",
      "\n",
      "df[\"col\"][row_indexer] = value\n",
      "\n",
      "Use `df.loc[row_indexer, \"col\"] = values` instead, to perform the assignment in a single step and ensure this keeps updating the original `df`.\n",
      "\n",
      "See the caveats in the documentation: https://pandas.pydata.org/pandas-docs/stable/user_guide/indexing.html#returning-a-view-versus-a-copy\n",
      "\n",
      "  Train[\"Train Name\"][0]= 'Bareilly-Banaras-Express'\n",
      "/tmp/ipykernel_5720/1018625119.py:1: SettingWithCopyWarning: \n",
      "A value is trying to be set on a copy of a slice from a DataFrame\n",
      "\n",
      "See the caveats in the documentation: https://pandas.pydata.org/pandas-docs/stable/user_guide/indexing.html#returning-a-view-versus-a-copy\n",
      "  Train[\"Train Name\"][0]= 'Bareilly-Banaras-Express'\n"
     ]
    }
   ],
   "source": [
    "Train[\"Train Name\"][0]= 'Bareilly-Banaras-Express'"
   ]
  },
  {
   "cell_type": "code",
   "execution_count": 12,
   "id": "9e56eb26-2626-400b-a295-f8b82abad9f6",
   "metadata": {},
   "outputs": [
    {
     "data": {
      "text/html": [
       "<div>\n",
       "<style scoped>\n",
       "    .dataframe tbody tr th:only-of-type {\n",
       "        vertical-align: middle;\n",
       "    }\n",
       "\n",
       "    .dataframe tbody tr th {\n",
       "        vertical-align: top;\n",
       "    }\n",
       "\n",
       "    .dataframe thead th {\n",
       "        text-align: right;\n",
       "    }\n",
       "</style>\n",
       "<table border=\"1\" class=\"dataframe\">\n",
       "  <thead>\n",
       "    <tr style=\"text-align: right;\">\n",
       "      <th></th>\n",
       "      <th>Unnamed: 0.2</th>\n",
       "      <th>Unnamed: 0.1</th>\n",
       "      <th>Unnamed: 0</th>\n",
       "      <th>Train Name</th>\n",
       "      <th>Train No.</th>\n",
       "      <th>City-To</th>\n",
       "      <th>City-From</th>\n",
       "    </tr>\n",
       "  </thead>\n",
       "  <tbody>\n",
       "    <tr>\n",
       "      <th>0</th>\n",
       "      <td>1</td>\n",
       "      <td>1</td>\n",
       "      <td>1</td>\n",
       "      <td>Bareilly-Banaras-Express</td>\n",
       "      <td>14236</td>\n",
       "      <td>Varanasi</td>\n",
       "      <td>Bareilly</td>\n",
       "    </tr>\n",
       "    <tr>\n",
       "      <th>1</th>\n",
       "      <td>2</td>\n",
       "      <td>2</td>\n",
       "      <td>2</td>\n",
       "      <td>ShaktiNagar Triveni</td>\n",
       "      <td>15076</td>\n",
       "      <td>Shaktinagar</td>\n",
       "      <td>TanakPur</td>\n",
       "    </tr>\n",
       "    <tr>\n",
       "      <th>2</th>\n",
       "      <td>3</td>\n",
       "      <td>3</td>\n",
       "      <td>3</td>\n",
       "      <td>Bareilly-Roza</td>\n",
       "      <td>64176</td>\n",
       "      <td>Roza</td>\n",
       "      <td>Bareilly</td>\n",
       "    </tr>\n",
       "    <tr>\n",
       "      <th>3</th>\n",
       "      <td>4</td>\n",
       "      <td>4</td>\n",
       "      <td>4</td>\n",
       "      <td>Lucknow-Rajya Rani Superfast</td>\n",
       "      <td>22454</td>\n",
       "      <td>Lucknow</td>\n",
       "      <td>Meerut</td>\n",
       "    </tr>\n",
       "  </tbody>\n",
       "</table>\n",
       "</div>"
      ],
      "text/plain": [
       "   Unnamed: 0.2  Unnamed: 0.1  Unnamed: 0                    Train Name  \\\n",
       "0             1             1           1      Bareilly-Banaras-Express   \n",
       "1             2             2           2           ShaktiNagar Triveni   \n",
       "2             3             3           3                 Bareilly-Roza   \n",
       "3             4             4           4  Lucknow-Rajya Rani Superfast   \n",
       "\n",
       "   Train No.      City-To City-From  \n",
       "0      14236     Varanasi  Bareilly  \n",
       "1      15076  Shaktinagar  TanakPur  \n",
       "2      64176         Roza  Bareilly  \n",
       "3      22454      Lucknow    Meerut  "
      ]
     },
     "execution_count": 12,
     "metadata": {},
     "output_type": "execute_result"
    }
   ],
   "source": [
    "Train"
   ]
  },
  {
   "cell_type": "code",
   "execution_count": 13,
   "id": "33570918-926a-4e24-a4ab-c8c606456549",
   "metadata": {},
   "outputs": [],
   "source": [
    " Train.to_csv(\"Train-Names.csv\",index = False)\n"
   ]
  },
  {
   "cell_type": "code",
   "execution_count": 14,
   "id": "415f1a81-a827-4a51-95d5-b782135baabd",
   "metadata": {},
   "outputs": [],
   "source": [
    "Train.index = [1,2,3,4]"
   ]
  },
  {
   "cell_type": "code",
   "execution_count": 15,
   "id": "acd87c33-a14b-4f20-a936-7d58cdc540b1",
   "metadata": {},
   "outputs": [
    {
     "data": {
      "text/html": [
       "<div>\n",
       "<style scoped>\n",
       "    .dataframe tbody tr th:only-of-type {\n",
       "        vertical-align: middle;\n",
       "    }\n",
       "\n",
       "    .dataframe tbody tr th {\n",
       "        vertical-align: top;\n",
       "    }\n",
       "\n",
       "    .dataframe thead th {\n",
       "        text-align: right;\n",
       "    }\n",
       "</style>\n",
       "<table border=\"1\" class=\"dataframe\">\n",
       "  <thead>\n",
       "    <tr style=\"text-align: right;\">\n",
       "      <th></th>\n",
       "      <th>Unnamed: 0.2</th>\n",
       "      <th>Unnamed: 0.1</th>\n",
       "      <th>Unnamed: 0</th>\n",
       "      <th>Train Name</th>\n",
       "      <th>Train No.</th>\n",
       "      <th>City-To</th>\n",
       "      <th>City-From</th>\n",
       "    </tr>\n",
       "  </thead>\n",
       "  <tbody>\n",
       "    <tr>\n",
       "      <th>1</th>\n",
       "      <td>1</td>\n",
       "      <td>1</td>\n",
       "      <td>1</td>\n",
       "      <td>Bareilly-Banaras-Express</td>\n",
       "      <td>14236</td>\n",
       "      <td>Varanasi</td>\n",
       "      <td>Bareilly</td>\n",
       "    </tr>\n",
       "    <tr>\n",
       "      <th>2</th>\n",
       "      <td>2</td>\n",
       "      <td>2</td>\n",
       "      <td>2</td>\n",
       "      <td>ShaktiNagar Triveni</td>\n",
       "      <td>15076</td>\n",
       "      <td>Shaktinagar</td>\n",
       "      <td>TanakPur</td>\n",
       "    </tr>\n",
       "    <tr>\n",
       "      <th>3</th>\n",
       "      <td>3</td>\n",
       "      <td>3</td>\n",
       "      <td>3</td>\n",
       "      <td>Bareilly-Roza</td>\n",
       "      <td>64176</td>\n",
       "      <td>Roza</td>\n",
       "      <td>Bareilly</td>\n",
       "    </tr>\n",
       "    <tr>\n",
       "      <th>4</th>\n",
       "      <td>4</td>\n",
       "      <td>4</td>\n",
       "      <td>4</td>\n",
       "      <td>Lucknow-Rajya Rani Superfast</td>\n",
       "      <td>22454</td>\n",
       "      <td>Lucknow</td>\n",
       "      <td>Meerut</td>\n",
       "    </tr>\n",
       "  </tbody>\n",
       "</table>\n",
       "</div>"
      ],
      "text/plain": [
       "   Unnamed: 0.2  Unnamed: 0.1  Unnamed: 0                    Train Name  \\\n",
       "1             1             1           1      Bareilly-Banaras-Express   \n",
       "2             2             2           2           ShaktiNagar Triveni   \n",
       "3             3             3           3                 Bareilly-Roza   \n",
       "4             4             4           4  Lucknow-Rajya Rani Superfast   \n",
       "\n",
       "   Train No.      City-To City-From  \n",
       "1      14236     Varanasi  Bareilly  \n",
       "2      15076  Shaktinagar  TanakPur  \n",
       "3      64176         Roza  Bareilly  \n",
       "4      22454      Lucknow    Meerut  "
      ]
     },
     "execution_count": 15,
     "metadata": {},
     "output_type": "execute_result"
    }
   ],
   "source": [
    "Train"
   ]
  },
  {
   "cell_type": "code",
   "execution_count": 16,
   "id": "d9ed6353-e5dd-4a4d-bde8-25c3d3ce7e6e",
   "metadata": {},
   "outputs": [],
   "source": [
    "Train.to_csv(\"Train-Names.csv\")"
   ]
  },
  {
   "cell_type": "code",
   "execution_count": 17,
   "id": "3824ac1c-6bf7-43b0-a867-4f5a5c728c94",
   "metadata": {},
   "outputs": [
    {
     "ename": "FileNotFoundError",
     "evalue": "[Errno 2] No such file or directory: 'WhatisNew.csv'",
     "output_type": "error",
     "traceback": [
      "\u001b[0;31m---------------------------------------------------------------------------\u001b[0m",
      "\u001b[0;31mFileNotFoundError\u001b[0m                         Traceback (most recent call last)",
      "Cell \u001b[0;32mIn[17], line 1\u001b[0m\n\u001b[0;32m----> 1\u001b[0m n \u001b[38;5;241m=\u001b[39m \u001b[38;5;28;43mopen\u001b[39;49m\u001b[43m(\u001b[49m\u001b[38;5;124;43m\"\u001b[39;49m\u001b[38;5;124;43mWhatisNew.csv\u001b[39;49m\u001b[38;5;124;43m\"\u001b[39;49m\u001b[43m)\u001b[49m\n",
      "File \u001b[0;32m~/.local/lib/python3.13/site-packages/IPython/core/interactiveshell.py:324\u001b[0m, in \u001b[0;36m_modified_open\u001b[0;34m(file, *args, **kwargs)\u001b[0m\n\u001b[1;32m    317\u001b[0m \u001b[38;5;28;01mif\u001b[39;00m file \u001b[38;5;129;01min\u001b[39;00m {\u001b[38;5;241m0\u001b[39m, \u001b[38;5;241m1\u001b[39m, \u001b[38;5;241m2\u001b[39m}:\n\u001b[1;32m    318\u001b[0m     \u001b[38;5;28;01mraise\u001b[39;00m \u001b[38;5;167;01mValueError\u001b[39;00m(\n\u001b[1;32m    319\u001b[0m         \u001b[38;5;124mf\u001b[39m\u001b[38;5;124m\"\u001b[39m\u001b[38;5;124mIPython won\u001b[39m\u001b[38;5;124m'\u001b[39m\u001b[38;5;124mt let you open fd=\u001b[39m\u001b[38;5;132;01m{\u001b[39;00mfile\u001b[38;5;132;01m}\u001b[39;00m\u001b[38;5;124m by default \u001b[39m\u001b[38;5;124m\"\u001b[39m\n\u001b[1;32m    320\u001b[0m         \u001b[38;5;124m\"\u001b[39m\u001b[38;5;124mas it is likely to crash IPython. If you know what you are doing, \u001b[39m\u001b[38;5;124m\"\u001b[39m\n\u001b[1;32m    321\u001b[0m         \u001b[38;5;124m\"\u001b[39m\u001b[38;5;124myou can use builtins\u001b[39m\u001b[38;5;124m'\u001b[39m\u001b[38;5;124m open.\u001b[39m\u001b[38;5;124m\"\u001b[39m\n\u001b[1;32m    322\u001b[0m     )\n\u001b[0;32m--> 324\u001b[0m \u001b[38;5;28;01mreturn\u001b[39;00m \u001b[43mio_open\u001b[49m\u001b[43m(\u001b[49m\u001b[43mfile\u001b[49m\u001b[43m,\u001b[49m\u001b[43m \u001b[49m\u001b[38;5;241;43m*\u001b[39;49m\u001b[43margs\u001b[49m\u001b[43m,\u001b[49m\u001b[43m \u001b[49m\u001b[38;5;241;43m*\u001b[39;49m\u001b[38;5;241;43m*\u001b[39;49m\u001b[43mkwargs\u001b[49m\u001b[43m)\u001b[49m\n",
      "\u001b[0;31mFileNotFoundError\u001b[0m: [Errno 2] No such file or directory: 'WhatisNew.csv'"
     ]
    }
   ],
   "source": [
    "n = open(\"WhatisNew.csv\")\n"
   ]
  },
  {
   "cell_type": "code",
   "execution_count": 19,
   "id": "ea4cdfc0-bad6-4be7-ac0a-70caaa9e32ae",
   "metadata": {},
   "outputs": [],
   "source": [
    "Train.drop(\"City-From\",axis=1,inplace=True)"
   ]
  },
  {
   "cell_type": "code",
   "execution_count": 20,
   "id": "c86bf1b2-0ca1-4989-bde3-411c73a1a6c2",
   "metadata": {},
   "outputs": [],
   "source": [
    "Train[\"City-From\"]=[\"Bareilly\",\"TanakPur\",\"Bareilly\",\"Meerut\"]"
   ]
  },
  {
   "cell_type": "code",
   "execution_count": 21,
   "id": "54b9efc3-1d22-4ab1-845a-6562409b87c0",
   "metadata": {},
   "outputs": [
    {
     "data": {
      "text/html": [
       "<div>\n",
       "<style scoped>\n",
       "    .dataframe tbody tr th:only-of-type {\n",
       "        vertical-align: middle;\n",
       "    }\n",
       "\n",
       "    .dataframe tbody tr th {\n",
       "        vertical-align: top;\n",
       "    }\n",
       "\n",
       "    .dataframe thead th {\n",
       "        text-align: right;\n",
       "    }\n",
       "</style>\n",
       "<table border=\"1\" class=\"dataframe\">\n",
       "  <thead>\n",
       "    <tr style=\"text-align: right;\">\n",
       "      <th></th>\n",
       "      <th>Unnamed: 0.2</th>\n",
       "      <th>Unnamed: 0.1</th>\n",
       "      <th>Unnamed: 0</th>\n",
       "      <th>Train Name</th>\n",
       "      <th>Train No.</th>\n",
       "      <th>City-To</th>\n",
       "      <th>City-From</th>\n",
       "    </tr>\n",
       "  </thead>\n",
       "  <tbody>\n",
       "    <tr>\n",
       "      <th>1</th>\n",
       "      <td>1</td>\n",
       "      <td>1</td>\n",
       "      <td>1</td>\n",
       "      <td>Bareilly-Banaras-Express</td>\n",
       "      <td>14236</td>\n",
       "      <td>Varanasi</td>\n",
       "      <td>Bareilly</td>\n",
       "    </tr>\n",
       "    <tr>\n",
       "      <th>2</th>\n",
       "      <td>2</td>\n",
       "      <td>2</td>\n",
       "      <td>2</td>\n",
       "      <td>ShaktiNagar Triveni</td>\n",
       "      <td>15076</td>\n",
       "      <td>Shaktinagar</td>\n",
       "      <td>TanakPur</td>\n",
       "    </tr>\n",
       "    <tr>\n",
       "      <th>3</th>\n",
       "      <td>3</td>\n",
       "      <td>3</td>\n",
       "      <td>3</td>\n",
       "      <td>Bareilly-Roza</td>\n",
       "      <td>64176</td>\n",
       "      <td>Roza</td>\n",
       "      <td>Bareilly</td>\n",
       "    </tr>\n",
       "    <tr>\n",
       "      <th>4</th>\n",
       "      <td>4</td>\n",
       "      <td>4</td>\n",
       "      <td>4</td>\n",
       "      <td>Lucknow-Rajya Rani Superfast</td>\n",
       "      <td>22454</td>\n",
       "      <td>Lucknow</td>\n",
       "      <td>Meerut</td>\n",
       "    </tr>\n",
       "  </tbody>\n",
       "</table>\n",
       "</div>"
      ],
      "text/plain": [
       "   Unnamed: 0.2  Unnamed: 0.1  Unnamed: 0                    Train Name  \\\n",
       "1             1             1           1      Bareilly-Banaras-Express   \n",
       "2             2             2           2           ShaktiNagar Triveni   \n",
       "3             3             3           3                 Bareilly-Roza   \n",
       "4             4             4           4  Lucknow-Rajya Rani Superfast   \n",
       "\n",
       "   Train No.      City-To City-From  \n",
       "1      14236     Varanasi  Bareilly  \n",
       "2      15076  Shaktinagar  TanakPur  \n",
       "3      64176         Roza  Bareilly  \n",
       "4      22454      Lucknow    Meerut  "
      ]
     },
     "execution_count": 21,
     "metadata": {},
     "output_type": "execute_result"
    }
   ],
   "source": [
    "Train\n",
    "\n"
   ]
  },
  {
   "cell_type": "code",
   "execution_count": 22,
   "id": "3cb7fe23-1b6b-4a89-8213-59ec5903425b",
   "metadata": {},
   "outputs": [],
   "source": [
    "Train.to_csv(\"Train-Names.csv\",index = False)"
   ]
  },
  {
   "cell_type": "code",
   "execution_count": 23,
   "id": "1c66a920-c1f3-4dea-8a78-bb9425322df6",
   "metadata": {},
   "outputs": [],
   "source": [
    "Train[\"City-To\"]=[\"Varanasi\",\"Shaktinagar\",\"Roza\",\"Lucknow\"]"
   ]
  },
  {
   "cell_type": "code",
   "execution_count": 24,
   "id": "f9c3ee14-5d0a-484c-87de-af4acf16f1d9",
   "metadata": {},
   "outputs": [
    {
     "data": {
      "text/html": [
       "<div>\n",
       "<style scoped>\n",
       "    .dataframe tbody tr th:only-of-type {\n",
       "        vertical-align: middle;\n",
       "    }\n",
       "\n",
       "    .dataframe tbody tr th {\n",
       "        vertical-align: top;\n",
       "    }\n",
       "\n",
       "    .dataframe thead th {\n",
       "        text-align: right;\n",
       "    }\n",
       "</style>\n",
       "<table border=\"1\" class=\"dataframe\">\n",
       "  <thead>\n",
       "    <tr style=\"text-align: right;\">\n",
       "      <th></th>\n",
       "      <th>Unnamed: 0.2</th>\n",
       "      <th>Unnamed: 0.1</th>\n",
       "      <th>Unnamed: 0</th>\n",
       "      <th>Train Name</th>\n",
       "      <th>Train No.</th>\n",
       "      <th>City-To</th>\n",
       "      <th>City-From</th>\n",
       "    </tr>\n",
       "  </thead>\n",
       "  <tbody>\n",
       "    <tr>\n",
       "      <th>1</th>\n",
       "      <td>1</td>\n",
       "      <td>1</td>\n",
       "      <td>1</td>\n",
       "      <td>Bareilly-Banaras-Express</td>\n",
       "      <td>14236</td>\n",
       "      <td>Varanasi</td>\n",
       "      <td>Bareilly</td>\n",
       "    </tr>\n",
       "    <tr>\n",
       "      <th>2</th>\n",
       "      <td>2</td>\n",
       "      <td>2</td>\n",
       "      <td>2</td>\n",
       "      <td>ShaktiNagar Triveni</td>\n",
       "      <td>15076</td>\n",
       "      <td>Shaktinagar</td>\n",
       "      <td>TanakPur</td>\n",
       "    </tr>\n",
       "    <tr>\n",
       "      <th>3</th>\n",
       "      <td>3</td>\n",
       "      <td>3</td>\n",
       "      <td>3</td>\n",
       "      <td>Bareilly-Roza</td>\n",
       "      <td>64176</td>\n",
       "      <td>Roza</td>\n",
       "      <td>Bareilly</td>\n",
       "    </tr>\n",
       "    <tr>\n",
       "      <th>4</th>\n",
       "      <td>4</td>\n",
       "      <td>4</td>\n",
       "      <td>4</td>\n",
       "      <td>Lucknow-Rajya Rani Superfast</td>\n",
       "      <td>22454</td>\n",
       "      <td>Lucknow</td>\n",
       "      <td>Meerut</td>\n",
       "    </tr>\n",
       "  </tbody>\n",
       "</table>\n",
       "</div>"
      ],
      "text/plain": [
       "   Unnamed: 0.2  Unnamed: 0.1  Unnamed: 0                    Train Name  \\\n",
       "1             1             1           1      Bareilly-Banaras-Express   \n",
       "2             2             2           2           ShaktiNagar Triveni   \n",
       "3             3             3           3                 Bareilly-Roza   \n",
       "4             4             4           4  Lucknow-Rajya Rani Superfast   \n",
       "\n",
       "   Train No.      City-To City-From  \n",
       "1      14236     Varanasi  Bareilly  \n",
       "2      15076  Shaktinagar  TanakPur  \n",
       "3      64176         Roza  Bareilly  \n",
       "4      22454      Lucknow    Meerut  "
      ]
     },
     "execution_count": 24,
     "metadata": {},
     "output_type": "execute_result"
    }
   ],
   "source": [
    "Train\n"
   ]
  },
  {
   "cell_type": "code",
   "execution_count": 25,
   "id": "4e84f308-c056-4d2b-91b8-e32de3fcdc83",
   "metadata": {},
   "outputs": [],
   "source": [
    "Train.to_csv(\"Train-Names.csv\",index = False)"
   ]
  },
  {
   "cell_type": "markdown",
   "id": "88427a9a-4762-43ed-9e0a-64ebea4c9eef",
   "metadata": {},
   "source": [
    "###COLLEGE\n",
    "\n",
    "\n"
   ]
  },
  {
   "cell_type": "code",
   "execution_count": 26,
   "id": "a1a9934e-0a00-4755-b0dd-33dc7d9e060e",
   "metadata": {},
   "outputs": [
    {
     "data": {
      "text/html": [
       "<div>\n",
       "<style scoped>\n",
       "    .dataframe tbody tr th:only-of-type {\n",
       "        vertical-align: middle;\n",
       "    }\n",
       "\n",
       "    .dataframe tbody tr th {\n",
       "        vertical-align: top;\n",
       "    }\n",
       "\n",
       "    .dataframe thead th {\n",
       "        text-align: right;\n",
       "    }\n",
       "</style>\n",
       "<table border=\"1\" class=\"dataframe\">\n",
       "  <thead>\n",
       "    <tr style=\"text-align: right;\">\n",
       "      <th></th>\n",
       "      <th>cars</th>\n",
       "      <th>Passings</th>\n",
       "    </tr>\n",
       "  </thead>\n",
       "  <tbody>\n",
       "    <tr>\n",
       "      <th>0</th>\n",
       "      <td>BMW</td>\n",
       "      <td>3</td>\n",
       "    </tr>\n",
       "    <tr>\n",
       "      <th>1</th>\n",
       "      <td>Volvo</td>\n",
       "      <td>7</td>\n",
       "    </tr>\n",
       "    <tr>\n",
       "      <th>2</th>\n",
       "      <td>Ford</td>\n",
       "      <td>4</td>\n",
       "    </tr>\n",
       "  </tbody>\n",
       "</table>\n",
       "</div>"
      ],
      "text/plain": [
       "    cars  Passings\n",
       "0    BMW         3\n",
       "1  Volvo         7\n",
       "2   Ford         4"
      ]
     },
     "execution_count": 26,
     "metadata": {},
     "output_type": "execute_result"
    }
   ],
   "source": [
    "mydataset={\n",
    "    \"cars\":[\"BMW\",\"Volvo\",\"Ford\"],\n",
    "    \"Passings\":[3,7,4]\n",
    "}\n",
    "\n",
    "df = pd.DataFrame(mydataset)\n",
    "# df.index=[1,2,3]\n",
    "df                                                                                                                                                                                                                                                                                                                                                                                                                                                                                                                                                                                                                                                                                                                                                                                                                                                                                                                                                                                                                                                                                                                                                                                                                                                                                                                                                                                                                                                                                                                                                                                     "
   ]
  },
  {
   "cell_type": "code",
   "execution_count": 27,
   "id": "8bbc0938-aaec-49cc-97a1-10ce8f8bf394",
   "metadata": {},
   "outputs": [],
   "source": [
    "movies=pd.read_csv(\"imdb_Top_250_TV_Shows.csv\")"
   ]
  },
  {
   "cell_type": "code",
   "execution_count": 28,
   "id": "fb191b4d-3129-4415-a955-38795c0b74da",
   "metadata": {},
   "outputs": [
    {
     "data": {
      "text/html": [
       "<div>\n",
       "<style scoped>\n",
       "    .dataframe tbody tr th:only-of-type {\n",
       "        vertical-align: middle;\n",
       "    }\n",
       "\n",
       "    .dataframe tbody tr th {\n",
       "        vertical-align: top;\n",
       "    }\n",
       "\n",
       "    .dataframe thead th {\n",
       "        text-align: right;\n",
       "    }\n",
       "</style>\n",
       "<table border=\"1\" class=\"dataframe\">\n",
       "  <thead>\n",
       "    <tr style=\"text-align: right;\">\n",
       "      <th></th>\n",
       "      <th>Shows Name</th>\n",
       "      <th>Release Year</th>\n",
       "      <th>Episodes</th>\n",
       "      <th>Rating</th>\n",
       "      <th>Rating given by people</th>\n",
       "    </tr>\n",
       "  </thead>\n",
       "  <tbody>\n",
       "    <tr>\n",
       "      <th>0</th>\n",
       "      <td>Breaking Bad</td>\n",
       "      <td>2008–2013</td>\n",
       "      <td>62 eps</td>\n",
       "      <td>9.5</td>\n",
       "      <td>(2.2M)</td>\n",
       "    </tr>\n",
       "    <tr>\n",
       "      <th>1</th>\n",
       "      <td>Planet Earth II</td>\n",
       "      <td>2016</td>\n",
       "      <td>6 eps</td>\n",
       "      <td>9.5</td>\n",
       "      <td>(163K)</td>\n",
       "    </tr>\n",
       "    <tr>\n",
       "      <th>2</th>\n",
       "      <td>Planet Earth</td>\n",
       "      <td>2006</td>\n",
       "      <td>11 eps</td>\n",
       "      <td>9.4</td>\n",
       "      <td>(224K)</td>\n",
       "    </tr>\n",
       "    <tr>\n",
       "      <th>3</th>\n",
       "      <td>Band of Brothers</td>\n",
       "      <td>2001</td>\n",
       "      <td>10 eps</td>\n",
       "      <td>9.4</td>\n",
       "      <td>(547K)</td>\n",
       "    </tr>\n",
       "    <tr>\n",
       "      <th>4</th>\n",
       "      <td>Chernobyl</td>\n",
       "      <td>2019</td>\n",
       "      <td>5 eps</td>\n",
       "      <td>9.3</td>\n",
       "      <td>(912K)</td>\n",
       "    </tr>\n",
       "  </tbody>\n",
       "</table>\n",
       "</div>"
      ],
      "text/plain": [
       "         Shows Name Release Year Episodes  Rating Rating given by people\n",
       "0      Breaking Bad    2008–2013   62 eps     9.5                 (2.2M)\n",
       "1   Planet Earth II         2016    6 eps     9.5                 (163K)\n",
       "2      Planet Earth         2006   11 eps     9.4                 (224K)\n",
       "3  Band of Brothers         2001   10 eps     9.4                 (547K)\n",
       "4         Chernobyl         2019    5 eps     9.3                 (912K)"
      ]
     },
     "execution_count": 28,
     "metadata": {},
     "output_type": "execute_result"
    }
   ],
   "source": [
    "movies.head(5)"
   ]
  },
  {
   "cell_type": "code",
   "execution_count": 29,
   "id": "687d1b78-657e-4d35-aac8-fa9b22cfb0f6",
   "metadata": {},
   "outputs": [
    {
     "data": {
      "text/html": [
       "<div>\n",
       "<style scoped>\n",
       "    .dataframe tbody tr th:only-of-type {\n",
       "        vertical-align: middle;\n",
       "    }\n",
       "\n",
       "    .dataframe tbody tr th {\n",
       "        vertical-align: top;\n",
       "    }\n",
       "\n",
       "    .dataframe thead th {\n",
       "        text-align: right;\n",
       "    }\n",
       "</style>\n",
       "<table border=\"1\" class=\"dataframe\">\n",
       "  <thead>\n",
       "    <tr style=\"text-align: right;\">\n",
       "      <th></th>\n",
       "      <th>Shows Name</th>\n",
       "      <th>Release Year</th>\n",
       "      <th>Episodes</th>\n",
       "      <th>Rating</th>\n",
       "      <th>Rating given by people</th>\n",
       "    </tr>\n",
       "  </thead>\n",
       "  <tbody>\n",
       "    <tr>\n",
       "      <th>245</th>\n",
       "      <td>Umbre</td>\n",
       "      <td>2014–2019</td>\n",
       "      <td>21 eps</td>\n",
       "      <td>8.7</td>\n",
       "      <td>(12K)</td>\n",
       "    </tr>\n",
       "    <tr>\n",
       "      <th>246</th>\n",
       "      <td>Foyle's War</td>\n",
       "      <td>2002–2015</td>\n",
       "      <td>28 eps</td>\n",
       "      <td>8.6</td>\n",
       "      <td>(19K)</td>\n",
       "    </tr>\n",
       "    <tr>\n",
       "      <th>247</th>\n",
       "      <td>Gintama</td>\n",
       "      <td>2005–2021</td>\n",
       "      <td>375 eps</td>\n",
       "      <td>8.7</td>\n",
       "      <td>(17K)</td>\n",
       "    </tr>\n",
       "    <tr>\n",
       "      <th>248</th>\n",
       "      <td>The Great British Baking Show</td>\n",
       "      <td>2010–</td>\n",
       "      <td>189 eps</td>\n",
       "      <td>8.6</td>\n",
       "      <td>(13K)</td>\n",
       "    </tr>\n",
       "    <tr>\n",
       "      <th>249</th>\n",
       "      <td>Community</td>\n",
       "      <td>2009–2015</td>\n",
       "      <td>110 eps</td>\n",
       "      <td>8.5</td>\n",
       "      <td>(300K)</td>\n",
       "    </tr>\n",
       "  </tbody>\n",
       "</table>\n",
       "</div>"
      ],
      "text/plain": [
       "                        Shows Name Release Year Episodes  Rating  \\\n",
       "245                          Umbre    2014–2019   21 eps     8.7   \n",
       "246                    Foyle's War    2002–2015   28 eps     8.6   \n",
       "247                        Gintama    2005–2021  375 eps     8.7   \n",
       "248  The Great British Baking Show        2010–  189 eps     8.6   \n",
       "249                      Community    2009–2015  110 eps     8.5   \n",
       "\n",
       "    Rating given by people  \n",
       "245                  (12K)  \n",
       "246                  (19K)  \n",
       "247                  (17K)  \n",
       "248                  (13K)  \n",
       "249                 (300K)  "
      ]
     },
     "execution_count": 29,
     "metadata": {},
     "output_type": "execute_result"
    }
   ],
   "source": [
    "movies.tail()"
   ]
  },
  {
   "cell_type": "code",
   "execution_count": 30,
   "id": "d588cef9-adde-429c-8bb4-35dbda2388ef",
   "metadata": {},
   "outputs": [
    {
     "name": "stdout",
     "output_type": "stream",
     "text": [
      "<class 'pandas.core.frame.DataFrame'>\n",
      "RangeIndex: 250 entries, 0 to 249\n",
      "Data columns (total 5 columns):\n",
      " #   Column                  Non-Null Count  Dtype  \n",
      "---  ------                  --------------  -----  \n",
      " 0   Shows Name              250 non-null    object \n",
      " 1   Release Year            250 non-null    object \n",
      " 2   Episodes                250 non-null    object \n",
      " 3   Rating                  250 non-null    float64\n",
      " 4   Rating given by people  250 non-null    object \n",
      "dtypes: float64(1), object(4)\n",
      "memory usage: 9.9+ KB\n"
     ]
    }
   ],
   "source": [
    "movies.info()"
   ]
  },
  {
   "cell_type": "code",
   "execution_count": 31,
   "id": "0bdd6135-7cc0-4575-8b25-75d9696c1fa4",
   "metadata": {},
   "outputs": [
    {
     "data": {
      "text/html": [
       "<div>\n",
       "<style scoped>\n",
       "    .dataframe tbody tr th:only-of-type {\n",
       "        vertical-align: middle;\n",
       "    }\n",
       "\n",
       "    .dataframe tbody tr th {\n",
       "        vertical-align: top;\n",
       "    }\n",
       "\n",
       "    .dataframe thead th {\n",
       "        text-align: right;\n",
       "    }\n",
       "</style>\n",
       "<table border=\"1\" class=\"dataframe\">\n",
       "  <thead>\n",
       "    <tr style=\"text-align: right;\">\n",
       "      <th></th>\n",
       "      <th>Rating</th>\n",
       "    </tr>\n",
       "  </thead>\n",
       "  <tbody>\n",
       "    <tr>\n",
       "      <th>count</th>\n",
       "      <td>250.00000</td>\n",
       "    </tr>\n",
       "    <tr>\n",
       "      <th>mean</th>\n",
       "      <td>8.75640</td>\n",
       "    </tr>\n",
       "    <tr>\n",
       "      <th>std</th>\n",
       "      <td>0.22365</td>\n",
       "    </tr>\n",
       "    <tr>\n",
       "      <th>min</th>\n",
       "      <td>8.50000</td>\n",
       "    </tr>\n",
       "    <tr>\n",
       "      <th>25%</th>\n",
       "      <td>8.60000</td>\n",
       "    </tr>\n",
       "    <tr>\n",
       "      <th>50%</th>\n",
       "      <td>8.70000</td>\n",
       "    </tr>\n",
       "    <tr>\n",
       "      <th>75%</th>\n",
       "      <td>8.90000</td>\n",
       "    </tr>\n",
       "    <tr>\n",
       "      <th>max</th>\n",
       "      <td>9.50000</td>\n",
       "    </tr>\n",
       "  </tbody>\n",
       "</table>\n",
       "</div>"
      ],
      "text/plain": [
       "          Rating\n",
       "count  250.00000\n",
       "mean     8.75640\n",
       "std      0.22365\n",
       "min      8.50000\n",
       "25%      8.60000\n",
       "50%      8.70000\n",
       "75%      8.90000\n",
       "max      9.50000"
      ]
     },
     "execution_count": 31,
     "metadata": {},
     "output_type": "execute_result"
    }
   ],
   "source": [
    "movies.describe()#desciptive Statistics "
   ]
  },
  {
   "cell_type": "code",
   "execution_count": 41,
   "id": "dba51c20-8a76-4415-abf8-99793c055213",
   "metadata": {},
   "outputs": [
    {
     "data": {
      "text/html": [
       "<div>\n",
       "<style scoped>\n",
       "    .dataframe tbody tr th:only-of-type {\n",
       "        vertical-align: middle;\n",
       "    }\n",
       "\n",
       "    .dataframe tbody tr th {\n",
       "        vertical-align: top;\n",
       "    }\n",
       "\n",
       "    .dataframe thead th {\n",
       "        text-align: right;\n",
       "    }\n",
       "</style>\n",
       "<table border=\"1\" class=\"dataframe\">\n",
       "  <thead>\n",
       "    <tr style=\"text-align: right;\">\n",
       "      <th></th>\n",
       "      <th>Shows Name</th>\n",
       "      <th>Release Year</th>\n",
       "      <th>Episodes</th>\n",
       "      <th>Rating</th>\n",
       "      <th>Rating given by people</th>\n",
       "      <th>Random</th>\n",
       "    </tr>\n",
       "  </thead>\n",
       "  <tbody>\n",
       "    <tr>\n",
       "      <th>206</th>\n",
       "      <td>Detectorists</td>\n",
       "      <td>2014–2022</td>\n",
       "      <td>20 eps</td>\n",
       "      <td>8.6</td>\n",
       "      <td>(23K)</td>\n",
       "      <td>0.837545</td>\n",
       "    </tr>\n",
       "    <tr>\n",
       "      <th>42</th>\n",
       "      <td>True Detective</td>\n",
       "      <td>2014–</td>\n",
       "      <td>31 eps</td>\n",
       "      <td>8.9</td>\n",
       "      <td>(679K)</td>\n",
       "      <td>0.534829</td>\n",
       "    </tr>\n",
       "    <tr>\n",
       "      <th>7</th>\n",
       "      <td>Blue Planet II</td>\n",
       "      <td>2017</td>\n",
       "      <td>7 eps</td>\n",
       "      <td>9.3</td>\n",
       "      <td>(49K)</td>\n",
       "      <td>0.946491</td>\n",
       "    </tr>\n",
       "    <tr>\n",
       "      <th>38</th>\n",
       "      <td>Seinfeld</td>\n",
       "      <td>1989–1998</td>\n",
       "      <td>172 eps</td>\n",
       "      <td>8.9</td>\n",
       "      <td>(362K)</td>\n",
       "      <td>0.311740</td>\n",
       "    </tr>\n",
       "    <tr>\n",
       "      <th>89</th>\n",
       "      <td>Steins;Gate</td>\n",
       "      <td>2011–2015</td>\n",
       "      <td>26 eps</td>\n",
       "      <td>8.8</td>\n",
       "      <td>(79K)</td>\n",
       "      <td>0.236130</td>\n",
       "    </tr>\n",
       "  </tbody>\n",
       "</table>\n",
       "</div>"
      ],
      "text/plain": [
       "         Shows Name Release Year Episodes  Rating Rating given by people  \\\n",
       "206    Detectorists    2014–2022   20 eps     8.6                  (23K)   \n",
       "42   True Detective        2014–   31 eps     8.9                 (679K)   \n",
       "7    Blue Planet II         2017    7 eps     9.3                  (49K)   \n",
       "38         Seinfeld    1989–1998  172 eps     8.9                 (362K)   \n",
       "89      Steins;Gate    2011–2015   26 eps     8.8                  (79K)   \n",
       "\n",
       "       Random  \n",
       "206  0.837545  \n",
       "42   0.534829  \n",
       "7    0.946491  \n",
       "38   0.311740  \n",
       "89   0.236130  "
      ]
     },
     "execution_count": 41,
     "metadata": {},
     "output_type": "execute_result"
    }
   ],
   "source": [
    "movies.sample(5)"
   ]
  },
  {
   "cell_type": "code",
   "execution_count": 42,
   "id": "fad659c5-7fb4-4bbf-95db-57e501fbd2f6",
   "metadata": {},
   "outputs": [
    {
     "ename": "TypeError",
     "evalue": "'tuple' object is not callable",
     "output_type": "error",
     "traceback": [
      "\u001b[0;31m---------------------------------------------------------------------------\u001b[0m",
      "\u001b[0;31mTypeError\u001b[0m                                 Traceback (most recent call last)",
      "Cell \u001b[0;32mIn[42], line 1\u001b[0m\n\u001b[0;32m----> 1\u001b[0m \u001b[43mmovies\u001b[49m\u001b[38;5;241;43m.\u001b[39;49m\u001b[43mshape\u001b[49m\u001b[43m(\u001b[49m\u001b[43m)\u001b[49m\n",
      "\u001b[0;31mTypeError\u001b[0m: 'tuple' object is not callable"
     ]
    }
   ],
   "source": [
    "movies.shape()"
   ]
  },
  {
   "cell_type": "code",
   "execution_count": 32,
   "id": "1fdccc15-cb20-49b7-b851-cabb864f274c",
   "metadata": {},
   "outputs": [
    {
     "data": {
      "text/plain": [
       "Shows Name                Breaking Bad\n",
       "Release Year                 2008–2013\n",
       "Episodes                        62 eps\n",
       "Rating                             9.5\n",
       "Rating given by people          (2.2M)\n",
       "Name: 0, dtype: object"
      ]
     },
     "execution_count": 32,
     "metadata": {},
     "output_type": "execute_result"
    }
   ],
   "source": [
    "movies.iloc[0]"
   ]
  },
  {
   "cell_type": "code",
   "execution_count": null,
   "id": "de374b0b-a34b-445c-9ac9-a083675ef41f",
   "metadata": {},
   "outputs": [],
   "source": []
  },
  {
   "cell_type": "code",
   "execution_count": null,
   "id": "907fb4f0-5fa5-4bb8-923d-afab083e00e4",
   "metadata": {},
   "outputs": [],
   "source": []
  },
  {
   "cell_type": "code",
   "execution_count": 33,
   "id": "36c66f02-4dd0-4716-864a-cd036a4b8ecf",
   "metadata": {},
   "outputs": [],
   "source": [
    "movies['Random']=np.random.rand(250)"
   ]
  },
  {
   "cell_type": "code",
   "execution_count": 34,
   "id": "e5cdf065-380e-4352-a98e-d6cc9495e4a2",
   "metadata": {},
   "outputs": [
    {
     "data": {
      "text/html": [
       "<div>\n",
       "<style scoped>\n",
       "    .dataframe tbody tr th:only-of-type {\n",
       "        vertical-align: middle;\n",
       "    }\n",
       "\n",
       "    .dataframe tbody tr th {\n",
       "        vertical-align: top;\n",
       "    }\n",
       "\n",
       "    .dataframe thead th {\n",
       "        text-align: right;\n",
       "    }\n",
       "</style>\n",
       "<table border=\"1\" class=\"dataframe\">\n",
       "  <thead>\n",
       "    <tr style=\"text-align: right;\">\n",
       "      <th></th>\n",
       "      <th>Shows Name</th>\n",
       "      <th>Release Year</th>\n",
       "      <th>Episodes</th>\n",
       "      <th>Rating</th>\n",
       "      <th>Rating given by people</th>\n",
       "      <th>Random</th>\n",
       "    </tr>\n",
       "  </thead>\n",
       "  <tbody>\n",
       "    <tr>\n",
       "      <th>0</th>\n",
       "      <td>Breaking Bad</td>\n",
       "      <td>2008–2013</td>\n",
       "      <td>62 eps</td>\n",
       "      <td>9.5</td>\n",
       "      <td>(2.2M)</td>\n",
       "      <td>0.527807</td>\n",
       "    </tr>\n",
       "    <tr>\n",
       "      <th>1</th>\n",
       "      <td>Planet Earth II</td>\n",
       "      <td>2016</td>\n",
       "      <td>6 eps</td>\n",
       "      <td>9.5</td>\n",
       "      <td>(163K)</td>\n",
       "      <td>0.389028</td>\n",
       "    </tr>\n",
       "    <tr>\n",
       "      <th>2</th>\n",
       "      <td>Planet Earth</td>\n",
       "      <td>2006</td>\n",
       "      <td>11 eps</td>\n",
       "      <td>9.4</td>\n",
       "      <td>(224K)</td>\n",
       "      <td>0.176800</td>\n",
       "    </tr>\n",
       "    <tr>\n",
       "      <th>3</th>\n",
       "      <td>Band of Brothers</td>\n",
       "      <td>2001</td>\n",
       "      <td>10 eps</td>\n",
       "      <td>9.4</td>\n",
       "      <td>(547K)</td>\n",
       "      <td>0.323879</td>\n",
       "    </tr>\n",
       "    <tr>\n",
       "      <th>4</th>\n",
       "      <td>Chernobyl</td>\n",
       "      <td>2019</td>\n",
       "      <td>5 eps</td>\n",
       "      <td>9.3</td>\n",
       "      <td>(912K)</td>\n",
       "      <td>0.836731</td>\n",
       "    </tr>\n",
       "    <tr>\n",
       "      <th>...</th>\n",
       "      <td>...</td>\n",
       "      <td>...</td>\n",
       "      <td>...</td>\n",
       "      <td>...</td>\n",
       "      <td>...</td>\n",
       "      <td>...</td>\n",
       "    </tr>\n",
       "    <tr>\n",
       "      <th>245</th>\n",
       "      <td>Umbre</td>\n",
       "      <td>2014–2019</td>\n",
       "      <td>21 eps</td>\n",
       "      <td>8.7</td>\n",
       "      <td>(12K)</td>\n",
       "      <td>0.656988</td>\n",
       "    </tr>\n",
       "    <tr>\n",
       "      <th>246</th>\n",
       "      <td>Foyle's War</td>\n",
       "      <td>2002–2015</td>\n",
       "      <td>28 eps</td>\n",
       "      <td>8.6</td>\n",
       "      <td>(19K)</td>\n",
       "      <td>0.424435</td>\n",
       "    </tr>\n",
       "    <tr>\n",
       "      <th>247</th>\n",
       "      <td>Gintama</td>\n",
       "      <td>2005–2021</td>\n",
       "      <td>375 eps</td>\n",
       "      <td>8.7</td>\n",
       "      <td>(17K)</td>\n",
       "      <td>0.691712</td>\n",
       "    </tr>\n",
       "    <tr>\n",
       "      <th>248</th>\n",
       "      <td>The Great British Baking Show</td>\n",
       "      <td>2010–</td>\n",
       "      <td>189 eps</td>\n",
       "      <td>8.6</td>\n",
       "      <td>(13K)</td>\n",
       "      <td>0.334057</td>\n",
       "    </tr>\n",
       "    <tr>\n",
       "      <th>249</th>\n",
       "      <td>Community</td>\n",
       "      <td>2009–2015</td>\n",
       "      <td>110 eps</td>\n",
       "      <td>8.5</td>\n",
       "      <td>(300K)</td>\n",
       "      <td>0.833258</td>\n",
       "    </tr>\n",
       "  </tbody>\n",
       "</table>\n",
       "<p>250 rows × 6 columns</p>\n",
       "</div>"
      ],
      "text/plain": [
       "                        Shows Name Release Year Episodes  Rating  \\\n",
       "0                     Breaking Bad    2008–2013   62 eps     9.5   \n",
       "1                  Planet Earth II         2016    6 eps     9.5   \n",
       "2                     Planet Earth         2006   11 eps     9.4   \n",
       "3                 Band of Brothers         2001   10 eps     9.4   \n",
       "4                        Chernobyl         2019    5 eps     9.3   \n",
       "..                             ...          ...      ...     ...   \n",
       "245                          Umbre    2014–2019   21 eps     8.7   \n",
       "246                    Foyle's War    2002–2015   28 eps     8.6   \n",
       "247                        Gintama    2005–2021  375 eps     8.7   \n",
       "248  The Great British Baking Show        2010–  189 eps     8.6   \n",
       "249                      Community    2009–2015  110 eps     8.5   \n",
       "\n",
       "    Rating given by people    Random  \n",
       "0                   (2.2M)  0.527807  \n",
       "1                   (163K)  0.389028  \n",
       "2                   (224K)  0.176800  \n",
       "3                   (547K)  0.323879  \n",
       "4                   (912K)  0.836731  \n",
       "..                     ...       ...  \n",
       "245                  (12K)  0.656988  \n",
       "246                  (19K)  0.424435  \n",
       "247                  (17K)  0.691712  \n",
       "248                  (13K)  0.334057  \n",
       "249                 (300K)  0.833258  \n",
       "\n",
       "[250 rows x 6 columns]"
      ]
     },
     "execution_count": 34,
     "metadata": {},
     "output_type": "execute_result"
    }
   ],
   "source": [
    "movies"
   ]
  },
  {
   "cell_type": "code",
   "execution_count": 39,
   "id": "be121e17-f0be-46b4-9850-9100c1bfdfe9",
   "metadata": {
    "scrolled": true
   },
   "outputs": [
    {
     "data": {
      "text/plain": [
       "Shows Name                Community\n",
       "Release Year              2009–2015\n",
       "Episodes                    110 eps\n",
       "Rating                          8.5\n",
       "Rating given by people       (300K)\n",
       "Random                     0.833258\n",
       "Name: 249, dtype: object"
      ]
     },
     "execution_count": 39,
     "metadata": {},
     "output_type": "execute_result"
    }
   ],
   "source": [
    "movies.iloc[-1]"
   ]
  },
  {
   "cell_type": "code",
   "execution_count": 47,
   "id": "dde69aa5-2719-47df-8069-65159a65fb3a",
   "metadata": {},
   "outputs": [
    {
     "data": {
      "text/html": [
       "<div>\n",
       "<style scoped>\n",
       "    .dataframe tbody tr th:only-of-type {\n",
       "        vertical-align: middle;\n",
       "    }\n",
       "\n",
       "    .dataframe tbody tr th {\n",
       "        vertical-align: top;\n",
       "    }\n",
       "\n",
       "    .dataframe thead th {\n",
       "        text-align: right;\n",
       "    }\n",
       "</style>\n",
       "<table border=\"1\" class=\"dataframe\">\n",
       "  <thead>\n",
       "    <tr style=\"text-align: right;\">\n",
       "      <th></th>\n",
       "      <th>Shows Name</th>\n",
       "      <th>Release Year</th>\n",
       "      <th>Episodes</th>\n",
       "      <th>Rating</th>\n",
       "      <th>Rating given by people</th>\n",
       "      <th>Random</th>\n",
       "    </tr>\n",
       "  </thead>\n",
       "  <tbody>\n",
       "    <tr>\n",
       "      <th>249</th>\n",
       "      <td>Community</td>\n",
       "      <td>2009–2015</td>\n",
       "      <td>110 eps</td>\n",
       "      <td>8.5</td>\n",
       "      <td>(300K)</td>\n",
       "      <td>0.833258</td>\n",
       "    </tr>\n",
       "  </tbody>\n",
       "</table>\n",
       "</div>"
      ],
      "text/plain": [
       "    Shows Name Release Year Episodes  Rating Rating given by people    Random\n",
       "249  Community    2009–2015  110 eps     8.5                 (300K)  0.833258"
      ]
     },
     "execution_count": 47,
     "metadata": {},
     "output_type": "execute_result"
    }
   ],
   "source": [
    "movies[movies[\"Shows Name\"].str.contains('Community')]"
   ]
  },
  {
   "cell_type": "code",
   "execution_count": null,
   "id": "8650160e-f687-4fed-8f3f-0a21540b4f88",
   "metadata": {},
   "outputs": [],
   "source": []
  }
 ],
 "metadata": {
  "kernelspec": {
   "display_name": "Python 3 (ipykernel)",
   "language": "python",
   "name": "python3"
  },
  "language_info": {
   "codemirror_mode": {
    "name": "ipython",
    "version": 3
   },
   "file_extension": ".py",
   "mimetype": "text/x-python",
   "name": "python",
   "nbconvert_exporter": "python",
   "pygments_lexer": "ipython3",
   "version": "3.13.1"
  }
 },
 "nbformat": 4,
 "nbformat_minor": 5
}
