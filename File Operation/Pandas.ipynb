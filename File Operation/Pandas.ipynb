{
 "cells": [
  {
   "cell_type": "code",
   "execution_count": 3,
   "id": "508d4a86-bd36-4bbe-99d9-6ee51bb87a7b",
   "metadata": {},
   "outputs": [],
   "source": [
    "import numpy as np\n",
    "import pandas as pd\n"
   ]
  },
  {
   "cell_type": "code",
   "execution_count": 4,
   "id": "fdf05e1e-3bf5-4bca-8531-988705b77698",
   "metadata": {},
   "outputs": [],
   "source": [
    "dict1 = {\n",
    "    \"Name\":[\"Vighnesh\",\"Suresh\",\"Ritik\",\"Devang\"],\n",
    "    \"Marks\":[99,78,58,65],\n",
    "    \"City\":[\"Shahjahanpur\",\"Khadharpur\",\"Lazmi Nagar\",\"Subhash\"],\n",
    "}"
   ]
  },
  {
   "cell_type": "code",
   "execution_count": 5,
   "id": "f8855a05-1650-4639-9ab1-dfdcfbcbe86b",
   "metadata": {},
   "outputs": [],
   "source": [
    "df = pd.DataFrame(dict1)"
   ]
  },
  {
   "cell_type": "code",
   "execution_count": 6,
   "id": "e55d4451-dbf0-4a5b-89fd-45ec52e9d9c6",
   "metadata": {
    "scrolled": true
   },
   "outputs": [
    {
     "data": {
      "text/html": [
       "<div>\n",
       "<style scoped>\n",
       "    .dataframe tbody tr th:only-of-type {\n",
       "        vertical-align: middle;\n",
       "    }\n",
       "\n",
       "    .dataframe tbody tr th {\n",
       "        vertical-align: top;\n",
       "    }\n",
       "\n",
       "    .dataframe thead th {\n",
       "        text-align: right;\n",
       "    }\n",
       "</style>\n",
       "<table border=\"1\" class=\"dataframe\">\n",
       "  <thead>\n",
       "    <tr style=\"text-align: right;\">\n",
       "      <th></th>\n",
       "      <th>Name</th>\n",
       "      <th>Marks</th>\n",
       "      <th>City</th>\n",
       "    </tr>\n",
       "  </thead>\n",
       "  <tbody>\n",
       "    <tr>\n",
       "      <th>0</th>\n",
       "      <td>Vighnesh</td>\n",
       "      <td>99</td>\n",
       "      <td>Shahjahanpur</td>\n",
       "    </tr>\n",
       "    <tr>\n",
       "      <th>1</th>\n",
       "      <td>Suresh</td>\n",
       "      <td>78</td>\n",
       "      <td>Khadharpur</td>\n",
       "    </tr>\n",
       "    <tr>\n",
       "      <th>2</th>\n",
       "      <td>Ritik</td>\n",
       "      <td>58</td>\n",
       "      <td>Lazmi Nagar</td>\n",
       "    </tr>\n",
       "    <tr>\n",
       "      <th>3</th>\n",
       "      <td>Devang</td>\n",
       "      <td>65</td>\n",
       "      <td>Subhash</td>\n",
       "    </tr>\n",
       "  </tbody>\n",
       "</table>\n",
       "</div>"
      ],
      "text/plain": [
       "       Name  Marks          City\n",
       "0  Vighnesh     99  Shahjahanpur\n",
       "1    Suresh     78    Khadharpur\n",
       "2     Ritik     58   Lazmi Nagar\n",
       "3    Devang     65       Subhash"
      ]
     },
     "execution_count": 6,
     "metadata": {},
     "output_type": "execute_result"
    }
   ],
   "source": [
    "df"
   ]
  },
  {
   "cell_type": "code",
   "execution_count": 7,
   "id": "d4a61e77-60d4-40ca-814d-461cab3042c2",
   "metadata": {},
   "outputs": [
    {
     "data": {
      "text/html": [
       "<div>\n",
       "<style scoped>\n",
       "    .dataframe tbody tr th:only-of-type {\n",
       "        vertical-align: middle;\n",
       "    }\n",
       "\n",
       "    .dataframe tbody tr th {\n",
       "        vertical-align: top;\n",
       "    }\n",
       "\n",
       "    .dataframe thead th {\n",
       "        text-align: right;\n",
       "    }\n",
       "</style>\n",
       "<table border=\"1\" class=\"dataframe\">\n",
       "  <thead>\n",
       "    <tr style=\"text-align: right;\">\n",
       "      <th></th>\n",
       "      <th>Marks</th>\n",
       "    </tr>\n",
       "  </thead>\n",
       "  <tbody>\n",
       "    <tr>\n",
       "      <th>count</th>\n",
       "      <td>4.000000</td>\n",
       "    </tr>\n",
       "    <tr>\n",
       "      <th>mean</th>\n",
       "      <td>75.000000</td>\n",
       "    </tr>\n",
       "    <tr>\n",
       "      <th>std</th>\n",
       "      <td>18.018509</td>\n",
       "    </tr>\n",
       "    <tr>\n",
       "      <th>min</th>\n",
       "      <td>58.000000</td>\n",
       "    </tr>\n",
       "    <tr>\n",
       "      <th>25%</th>\n",
       "      <td>63.250000</td>\n",
       "    </tr>\n",
       "    <tr>\n",
       "      <th>50%</th>\n",
       "      <td>71.500000</td>\n",
       "    </tr>\n",
       "    <tr>\n",
       "      <th>75%</th>\n",
       "      <td>83.250000</td>\n",
       "    </tr>\n",
       "    <tr>\n",
       "      <th>max</th>\n",
       "      <td>99.000000</td>\n",
       "    </tr>\n",
       "  </tbody>\n",
       "</table>\n",
       "</div>"
      ],
      "text/plain": [
       "           Marks\n",
       "count   4.000000\n",
       "mean   75.000000\n",
       "std    18.018509\n",
       "min    58.000000\n",
       "25%    63.250000\n",
       "50%    71.500000\n",
       "75%    83.250000\n",
       "max    99.000000"
      ]
     },
     "execution_count": 7,
     "metadata": {},
     "output_type": "execute_result"
    }
   ],
   "source": [
    "df.describe()"
   ]
  },
  {
   "cell_type": "code",
   "execution_count": 8,
   "id": "053c4de4-f787-4701-86e0-2e39770eb39e",
   "metadata": {},
   "outputs": [],
   "source": [
    "df.to_csv('First-of-Pandas')"
   ]
  },
  {
   "cell_type": "code",
   "execution_count": 9,
   "id": "e2798836-9ca8-48a7-a68c-2c92fafe8bad",
   "metadata": {},
   "outputs": [],
   "source": [
    "df.to_csv('First-of-Pandas_without_indexs', index=False )"
   ]
  },
  {
   "cell_type": "code",
   "execution_count": 10,
   "id": "2bc93a09-84d3-45f3-95e8-ba77e4307531",
   "metadata": {},
   "outputs": [],
   "source": [
    "Train=pd.read_csv('Train-Names.csv')"
   ]
  },
  {
   "cell_type": "code",
   "execution_count": 11,
   "id": "82562b4f-0a56-4b28-a157-d2d46206a477",
   "metadata": {},
   "outputs": [
    {
     "data": {
      "text/html": [
       "<div>\n",
       "<style scoped>\n",
       "    .dataframe tbody tr th:only-of-type {\n",
       "        vertical-align: middle;\n",
       "    }\n",
       "\n",
       "    .dataframe tbody tr th {\n",
       "        vertical-align: top;\n",
       "    }\n",
       "\n",
       "    .dataframe thead th {\n",
       "        text-align: right;\n",
       "    }\n",
       "</style>\n",
       "<table border=\"1\" class=\"dataframe\">\n",
       "  <thead>\n",
       "    <tr style=\"text-align: right;\">\n",
       "      <th></th>\n",
       "      <th>Unnamed: 0</th>\n",
       "      <th>Train Name</th>\n",
       "      <th>Train No.</th>\n",
       "      <th>City-From</th>\n",
       "      <th>City-To</th>\n",
       "    </tr>\n",
       "  </thead>\n",
       "  <tbody>\n",
       "    <tr>\n",
       "      <th>0</th>\n",
       "      <td>1</td>\n",
       "      <td>Bareilly-Banaras-Express</td>\n",
       "      <td>14236</td>\n",
       "      <td>Bareilly</td>\n",
       "      <td>Varanasi</td>\n",
       "    </tr>\n",
       "    <tr>\n",
       "      <th>1</th>\n",
       "      <td>2</td>\n",
       "      <td>ShaktiNagar Triveni</td>\n",
       "      <td>15076</td>\n",
       "      <td>Tanakpur</td>\n",
       "      <td>Shaktinagar</td>\n",
       "    </tr>\n",
       "    <tr>\n",
       "      <th>2</th>\n",
       "      <td>3</td>\n",
       "      <td>Bareilly-Roza</td>\n",
       "      <td>64176</td>\n",
       "      <td>Bareilly</td>\n",
       "      <td>Roza</td>\n",
       "    </tr>\n",
       "    <tr>\n",
       "      <th>3</th>\n",
       "      <td>4</td>\n",
       "      <td>Lucknow-Rajya Rani Superfast</td>\n",
       "      <td>22454</td>\n",
       "      <td>Meerut</td>\n",
       "      <td>Lucknow</td>\n",
       "    </tr>\n",
       "  </tbody>\n",
       "</table>\n",
       "</div>"
      ],
      "text/plain": [
       "   Unnamed: 0                    Train Name  Train No. City-From      City-To\n",
       "0           1      Bareilly-Banaras-Express      14236  Bareilly     Varanasi\n",
       "1           2           ShaktiNagar Triveni      15076  Tanakpur  Shaktinagar\n",
       "2           3                 Bareilly-Roza      64176  Bareilly        Roza \n",
       "3           4  Lucknow-Rajya Rani Superfast      22454    Meerut      Lucknow"
      ]
     },
     "execution_count": 11,
     "metadata": {},
     "output_type": "execute_result"
    }
   ],
   "source": [
    "Train"
   ]
  },
  {
   "cell_type": "code",
   "execution_count": 12,
   "id": "57f91389-bcc0-444a-b0d4-3be1999b29b8",
   "metadata": {},
   "outputs": [
    {
     "data": {
      "text/plain": [
       "0    Bareilly\n",
       "1    Tanakpur\n",
       "2    Bareilly\n",
       "3      Meerut\n",
       "Name: City-From, dtype: object"
      ]
     },
     "execution_count": 12,
     "metadata": {},
     "output_type": "execute_result"
    }
   ],
   "source": [
    "Train['City-From']"
   ]
  },
  {
   "cell_type": "code",
   "execution_count": 13,
   "id": "581d261f-0e1d-4bbc-8a71-a36c1366bd91",
   "metadata": {},
   "outputs": [
    {
     "name": "stderr",
     "output_type": "stream",
     "text": [
      "/tmp/ipykernel_4601/1018625119.py:1: FutureWarning: ChainedAssignmentError: behaviour will change in pandas 3.0!\n",
      "You are setting values through chained assignment. Currently this works in certain cases, but when using Copy-on-Write (which will become the default behaviour in pandas 3.0) this will never work to update the original DataFrame or Series, because the intermediate object on which we are setting values will behave as a copy.\n",
      "A typical example is when you are setting values in a column of a DataFrame, like:\n",
      "\n",
      "df[\"col\"][row_indexer] = value\n",
      "\n",
      "Use `df.loc[row_indexer, \"col\"] = values` instead, to perform the assignment in a single step and ensure this keeps updating the original `df`.\n",
      "\n",
      "See the caveats in the documentation: https://pandas.pydata.org/pandas-docs/stable/user_guide/indexing.html#returning-a-view-versus-a-copy\n",
      "\n",
      "  Train[\"Train Name\"][0]= 'Bareilly-Banaras-Express'\n",
      "/tmp/ipykernel_4601/1018625119.py:1: SettingWithCopyWarning: \n",
      "A value is trying to be set on a copy of a slice from a DataFrame\n",
      "\n",
      "See the caveats in the documentation: https://pandas.pydata.org/pandas-docs/stable/user_guide/indexing.html#returning-a-view-versus-a-copy\n",
      "  Train[\"Train Name\"][0]= 'Bareilly-Banaras-Express'\n"
     ]
    }
   ],
   "source": [
    "Train[\"Train Name\"][0]= 'Bareilly-Banaras-Express'"
   ]
  },
  {
   "cell_type": "code",
   "execution_count": 14,
   "id": "9e56eb26-2626-400b-a295-f8b82abad9f6",
   "metadata": {},
   "outputs": [
    {
     "data": {
      "text/html": [
       "<div>\n",
       "<style scoped>\n",
       "    .dataframe tbody tr th:only-of-type {\n",
       "        vertical-align: middle;\n",
       "    }\n",
       "\n",
       "    .dataframe tbody tr th {\n",
       "        vertical-align: top;\n",
       "    }\n",
       "\n",
       "    .dataframe thead th {\n",
       "        text-align: right;\n",
       "    }\n",
       "</style>\n",
       "<table border=\"1\" class=\"dataframe\">\n",
       "  <thead>\n",
       "    <tr style=\"text-align: right;\">\n",
       "      <th></th>\n",
       "      <th>Unnamed: 0</th>\n",
       "      <th>Train Name</th>\n",
       "      <th>Train No.</th>\n",
       "      <th>City-From</th>\n",
       "      <th>City-To</th>\n",
       "    </tr>\n",
       "  </thead>\n",
       "  <tbody>\n",
       "    <tr>\n",
       "      <th>0</th>\n",
       "      <td>1</td>\n",
       "      <td>Bareilly-Banaras-Express</td>\n",
       "      <td>14236</td>\n",
       "      <td>Bareilly</td>\n",
       "      <td>Varanasi</td>\n",
       "    </tr>\n",
       "    <tr>\n",
       "      <th>1</th>\n",
       "      <td>2</td>\n",
       "      <td>ShaktiNagar Triveni</td>\n",
       "      <td>15076</td>\n",
       "      <td>Tanakpur</td>\n",
       "      <td>Shaktinagar</td>\n",
       "    </tr>\n",
       "    <tr>\n",
       "      <th>2</th>\n",
       "      <td>3</td>\n",
       "      <td>Bareilly-Roza</td>\n",
       "      <td>64176</td>\n",
       "      <td>Bareilly</td>\n",
       "      <td>Roza</td>\n",
       "    </tr>\n",
       "    <tr>\n",
       "      <th>3</th>\n",
       "      <td>4</td>\n",
       "      <td>Lucknow-Rajya Rani Superfast</td>\n",
       "      <td>22454</td>\n",
       "      <td>Meerut</td>\n",
       "      <td>Lucknow</td>\n",
       "    </tr>\n",
       "  </tbody>\n",
       "</table>\n",
       "</div>"
      ],
      "text/plain": [
       "   Unnamed: 0                    Train Name  Train No. City-From      City-To\n",
       "0           1      Bareilly-Banaras-Express      14236  Bareilly     Varanasi\n",
       "1           2           ShaktiNagar Triveni      15076  Tanakpur  Shaktinagar\n",
       "2           3                 Bareilly-Roza      64176  Bareilly        Roza \n",
       "3           4  Lucknow-Rajya Rani Superfast      22454    Meerut      Lucknow"
      ]
     },
     "execution_count": 14,
     "metadata": {},
     "output_type": "execute_result"
    }
   ],
   "source": [
    "Train"
   ]
  },
  {
   "cell_type": "code",
   "execution_count": 15,
   "id": "33570918-926a-4e24-a4ab-c8c606456549",
   "metadata": {},
   "outputs": [],
   "source": [
    " Train.to_csv(\"Train-Names.csv\",index = False)\n"
   ]
  },
  {
   "cell_type": "code",
   "execution_count": 16,
   "id": "415f1a81-a827-4a51-95d5-b782135baabd",
   "metadata": {},
   "outputs": [],
   "source": [
    "Train.index = [1,2,3,4]"
   ]
  },
  {
   "cell_type": "code",
   "execution_count": 17,
   "id": "acd87c33-a14b-4f20-a936-7d58cdc540b1",
   "metadata": {},
   "outputs": [
    {
     "data": {
      "text/html": [
       "<div>\n",
       "<style scoped>\n",
       "    .dataframe tbody tr th:only-of-type {\n",
       "        vertical-align: middle;\n",
       "    }\n",
       "\n",
       "    .dataframe tbody tr th {\n",
       "        vertical-align: top;\n",
       "    }\n",
       "\n",
       "    .dataframe thead th {\n",
       "        text-align: right;\n",
       "    }\n",
       "</style>\n",
       "<table border=\"1\" class=\"dataframe\">\n",
       "  <thead>\n",
       "    <tr style=\"text-align: right;\">\n",
       "      <th></th>\n",
       "      <th>Unnamed: 0</th>\n",
       "      <th>Train Name</th>\n",
       "      <th>Train No.</th>\n",
       "      <th>City-From</th>\n",
       "      <th>City-To</th>\n",
       "    </tr>\n",
       "  </thead>\n",
       "  <tbody>\n",
       "    <tr>\n",
       "      <th>1</th>\n",
       "      <td>1</td>\n",
       "      <td>Bareilly-Banaras-Express</td>\n",
       "      <td>14236</td>\n",
       "      <td>Bareilly</td>\n",
       "      <td>Varanasi</td>\n",
       "    </tr>\n",
       "    <tr>\n",
       "      <th>2</th>\n",
       "      <td>2</td>\n",
       "      <td>ShaktiNagar Triveni</td>\n",
       "      <td>15076</td>\n",
       "      <td>Tanakpur</td>\n",
       "      <td>Shaktinagar</td>\n",
       "    </tr>\n",
       "    <tr>\n",
       "      <th>3</th>\n",
       "      <td>3</td>\n",
       "      <td>Bareilly-Roza</td>\n",
       "      <td>64176</td>\n",
       "      <td>Bareilly</td>\n",
       "      <td>Roza</td>\n",
       "    </tr>\n",
       "    <tr>\n",
       "      <th>4</th>\n",
       "      <td>4</td>\n",
       "      <td>Lucknow-Rajya Rani Superfast</td>\n",
       "      <td>22454</td>\n",
       "      <td>Meerut</td>\n",
       "      <td>Lucknow</td>\n",
       "    </tr>\n",
       "  </tbody>\n",
       "</table>\n",
       "</div>"
      ],
      "text/plain": [
       "   Unnamed: 0                    Train Name  Train No. City-From      City-To\n",
       "1           1      Bareilly-Banaras-Express      14236  Bareilly     Varanasi\n",
       "2           2           ShaktiNagar Triveni      15076  Tanakpur  Shaktinagar\n",
       "3           3                 Bareilly-Roza      64176  Bareilly        Roza \n",
       "4           4  Lucknow-Rajya Rani Superfast      22454    Meerut      Lucknow"
      ]
     },
     "execution_count": 17,
     "metadata": {},
     "output_type": "execute_result"
    }
   ],
   "source": [
    "Train"
   ]
  },
  {
   "cell_type": "code",
   "execution_count": 18,
   "id": "d9ed6353-e5dd-4a4d-bde8-25c3d3ce7e6e",
   "metadata": {},
   "outputs": [],
   "source": [
    "Train.to_csv(\"Train-Names.csv\")"
   ]
  },
  {
   "cell_type": "code",
   "execution_count": 19,
   "id": "3824ac1c-6bf7-43b0-a867-4f5a5c728c94",
   "metadata": {},
   "outputs": [],
   "source": [
    "n = open(\"WhatisNew.csv\")\n"
   ]
  },
  {
   "cell_type": "code",
   "execution_count": 23,
   "id": "ea4cdfc0-bad6-4be7-ac0a-70caaa9e32ae",
   "metadata": {},
   "outputs": [],
   "source": [
    "Train.drop(\"City-From\",axis=1,inplace=True)"
   ]
  },
  {
   "cell_type": "code",
   "execution_count": 25,
   "id": "c86bf1b2-0ca1-4989-bde3-411c73a1a6c2",
   "metadata": {},
   "outputs": [],
   "source": [
    "Train[\"City-From\"]=[\"Bareilly\",\"TanakPur\",\"Bareilly\",\"Meerut\"]"
   ]
  },
  {
   "cell_type": "code",
   "execution_count": 26,
   "id": "54b9efc3-1d22-4ab1-845a-6562409b87c0",
   "metadata": {},
   "outputs": [
    {
     "data": {
      "text/html": [
       "<div>\n",
       "<style scoped>\n",
       "    .dataframe tbody tr th:only-of-type {\n",
       "        vertical-align: middle;\n",
       "    }\n",
       "\n",
       "    .dataframe tbody tr th {\n",
       "        vertical-align: top;\n",
       "    }\n",
       "\n",
       "    .dataframe thead th {\n",
       "        text-align: right;\n",
       "    }\n",
       "</style>\n",
       "<table border=\"1\" class=\"dataframe\">\n",
       "  <thead>\n",
       "    <tr style=\"text-align: right;\">\n",
       "      <th></th>\n",
       "      <th>Unnamed: 0</th>\n",
       "      <th>Train Name</th>\n",
       "      <th>Train No.</th>\n",
       "      <th>City-From</th>\n",
       "    </tr>\n",
       "  </thead>\n",
       "  <tbody>\n",
       "    <tr>\n",
       "      <th>1</th>\n",
       "      <td>1</td>\n",
       "      <td>Bareilly-Banaras-Express</td>\n",
       "      <td>14236</td>\n",
       "      <td>Bareilly</td>\n",
       "    </tr>\n",
       "    <tr>\n",
       "      <th>2</th>\n",
       "      <td>2</td>\n",
       "      <td>ShaktiNagar Triveni</td>\n",
       "      <td>15076</td>\n",
       "      <td>TanakPur</td>\n",
       "    </tr>\n",
       "    <tr>\n",
       "      <th>3</th>\n",
       "      <td>3</td>\n",
       "      <td>Bareilly-Roza</td>\n",
       "      <td>64176</td>\n",
       "      <td>Bareilly</td>\n",
       "    </tr>\n",
       "    <tr>\n",
       "      <th>4</th>\n",
       "      <td>4</td>\n",
       "      <td>Lucknow-Rajya Rani Superfast</td>\n",
       "      <td>22454</td>\n",
       "      <td>Meerut</td>\n",
       "    </tr>\n",
       "  </tbody>\n",
       "</table>\n",
       "</div>"
      ],
      "text/plain": [
       "   Unnamed: 0                    Train Name  Train No. City-From\n",
       "1           1      Bareilly-Banaras-Express      14236  Bareilly\n",
       "2           2           ShaktiNagar Triveni      15076  TanakPur\n",
       "3           3                 Bareilly-Roza      64176  Bareilly\n",
       "4           4  Lucknow-Rajya Rani Superfast      22454    Meerut"
      ]
     },
     "execution_count": 26,
     "metadata": {},
     "output_type": "execute_result"
    }
   ],
   "source": [
    "Train\n",
    "\n"
   ]
  },
  {
   "cell_type": "code",
   "execution_count": 27,
   "id": "3cb7fe23-1b6b-4a89-8213-59ec5903425b",
   "metadata": {},
   "outputs": [],
   "source": [
    "Train.to_csv(\"Train-Names.csv\",index = False)"
   ]
  },
  {
   "cell_type": "code",
   "execution_count": 28,
   "id": "1c66a920-c1f3-4dea-8a78-bb9425322df6",
   "metadata": {},
   "outputs": [],
   "source": [
    "Train[\"City-To\"]=[\"Varanasi\",\"Shaktinagar\",\"Roza\",\"Lucknow\"]"
   ]
  },
  {
   "cell_type": "code",
   "execution_count": 29,
   "id": "f9c3ee14-5d0a-484c-87de-af4acf16f1d9",
   "metadata": {},
   "outputs": [
    {
     "data": {
      "text/html": [
       "<div>\n",
       "<style scoped>\n",
       "    .dataframe tbody tr th:only-of-type {\n",
       "        vertical-align: middle;\n",
       "    }\n",
       "\n",
       "    .dataframe tbody tr th {\n",
       "        vertical-align: top;\n",
       "    }\n",
       "\n",
       "    .dataframe thead th {\n",
       "        text-align: right;\n",
       "    }\n",
       "</style>\n",
       "<table border=\"1\" class=\"dataframe\">\n",
       "  <thead>\n",
       "    <tr style=\"text-align: right;\">\n",
       "      <th></th>\n",
       "      <th>Unnamed: 0</th>\n",
       "      <th>Train Name</th>\n",
       "      <th>Train No.</th>\n",
       "      <th>City-From</th>\n",
       "      <th>City-To</th>\n",
       "    </tr>\n",
       "  </thead>\n",
       "  <tbody>\n",
       "    <tr>\n",
       "      <th>1</th>\n",
       "      <td>1</td>\n",
       "      <td>Bareilly-Banaras-Express</td>\n",
       "      <td>14236</td>\n",
       "      <td>Bareilly</td>\n",
       "      <td>Varanasi</td>\n",
       "    </tr>\n",
       "    <tr>\n",
       "      <th>2</th>\n",
       "      <td>2</td>\n",
       "      <td>ShaktiNagar Triveni</td>\n",
       "      <td>15076</td>\n",
       "      <td>TanakPur</td>\n",
       "      <td>Shaktinagar</td>\n",
       "    </tr>\n",
       "    <tr>\n",
       "      <th>3</th>\n",
       "      <td>3</td>\n",
       "      <td>Bareilly-Roza</td>\n",
       "      <td>64176</td>\n",
       "      <td>Bareilly</td>\n",
       "      <td>Roza</td>\n",
       "    </tr>\n",
       "    <tr>\n",
       "      <th>4</th>\n",
       "      <td>4</td>\n",
       "      <td>Lucknow-Rajya Rani Superfast</td>\n",
       "      <td>22454</td>\n",
       "      <td>Meerut</td>\n",
       "      <td>Lucknow</td>\n",
       "    </tr>\n",
       "  </tbody>\n",
       "</table>\n",
       "</div>"
      ],
      "text/plain": [
       "   Unnamed: 0                    Train Name  Train No. City-From      City-To\n",
       "1           1      Bareilly-Banaras-Express      14236  Bareilly     Varanasi\n",
       "2           2           ShaktiNagar Triveni      15076  TanakPur  Shaktinagar\n",
       "3           3                 Bareilly-Roza      64176  Bareilly         Roza\n",
       "4           4  Lucknow-Rajya Rani Superfast      22454    Meerut      Lucknow"
      ]
     },
     "execution_count": 29,
     "metadata": {},
     "output_type": "execute_result"
    }
   ],
   "source": [
    "Train\n"
   ]
  },
  {
   "cell_type": "code",
   "execution_count": 30,
   "id": "4e84f308-c056-4d2b-91b8-e32de3fcdc83",
   "metadata": {},
   "outputs": [],
   "source": [
    "Train.to_csv(\"Train-Names.csv\",index = False)"
   ]
  },
  {
   "cell_type": "code",
   "execution_count": null,
   "id": "d05b4591-a868-4712-ac2c-2fcc324c119a",
   "metadata": {},
   "outputs": [],
   "source": []
  }
 ],
 "metadata": {
  "kernelspec": {
   "display_name": "Python 3 (ipykernel)",
   "language": "python",
   "name": "python3"
  },
  "language_info": {
   "codemirror_mode": {
    "name": "ipython",
    "version": 3
   },
   "file_extension": ".py",
   "mimetype": "text/x-python",
   "name": "python",
   "nbconvert_exporter": "python",
   "pygments_lexer": "ipython3",
   "version": "3.13.1"
  }
 },
 "nbformat": 4,
 "nbformat_minor": 5
}
