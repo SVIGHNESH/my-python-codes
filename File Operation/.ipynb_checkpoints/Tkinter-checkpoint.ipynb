{
 "cells": [
  {
   "cell_type": "code",
   "execution_count": 2,
   "id": "1ba235e9-e25a-4466-89bf-4cc3ddc2d90b",
   "metadata": {},
   "outputs": [],
   "source": [
    "import tkinter as tk\n",
    "\n",
    "root = tk.Tk()\n",
    "\n",
    "root.title(\"Hello\")\n",
    "\n",
    "Label = tk.Label(root,text=\"Hello\",font=(\"Cursive\",48))\n",
    "Label.pack(padx = 30,pady=40)\n",
    "\n",
    "textArea = tk.Text(root,height=7,font=(\"Arial\",10))\n",
    "textArea.pack(padx=10,pady=5)\n",
    "\n",
    "buttonFrame=tk.Frame(root)\n",
    "\n",
    "buttonFrame.columnconfigure(0,weight=1)\n",
    "buttonFrame.columnconfigure(1,weight=1)\n",
    "buttonFrame.columnconfigure(2,weight=1)\n",
    "\n",
    "btn1=tk.Button(buttonFrame,text=\"1\")\n",
    "btn1.grid(row=0,column=0,sticky=tk.W+tk.E)\n",
    "\n",
    "btn2=tk.Button(buttonFrame,text=\"2\")\n",
    "btn2.grid(row=0,column=1,sticky=tk.W+tk.E)\n",
    "\n",
    "btn3=tk.Button(buttonFrame,text=\"3\")\n",
    "btn3.grid(row=0,column=2,sticky=tk.W+tk.E)\n",
    "\n",
    "btn4=tk.Button(buttonFrame,text=\"4\")\n",
    "btn4.grid(row=1,column=0,sticky=tk.W+tk.E)\n",
    "\n",
    "btn5=tk.Button(buttonFrame,text=\"5\")\n",
    "btn5.grid(row=1,column=1,sticky=tk.W+tk.E)\n",
    "\n",
    "btn6=tk.Button(buttonFrame,text=\"6\")\n",
    "btn6.grid(row=1,column=2,sticky=tk.W+tk.E)\n",
    "\n",
    "btn7=tk.Button(buttonFrame,text=\"7\")\n",
    "btn7.grid(row=2,column=0,sticky=tk.W+tk.E)\n",
    "\n",
    "btn8=tk.Button(buttonFrame,text=\"8\")\n",
    "btn8.grid(row=2,column=1,sticky=tk.W+tk.E)\n",
    "\n",
    "\n",
    "btn9=tk.Button(buttonFrame,text=\"9\")\n",
    "btn9.grid(row=2,column=2,sticky=tk.W+tk.E)\n",
    "\n",
    "\n",
    "buttonFrame.pack(pady=10,fill=\"x\")\n",
    "\n",
    "\n",
    "root.mainloop() "
   ]
  },
  {
   "cell_type": "code",
   "execution_count": null,
   "id": "5beb39d7-6335-4414-a434-e0a6bfd6bbf8",
   "metadata": {},
   "outputs": [],
   "source": []
  }
 ],
 "metadata": {
  "kernelspec": {
   "display_name": "Python 3 (ipykernel)",
   "language": "python",
   "name": "python3"
  },
  "language_info": {
   "codemirror_mode": {
    "name": "ipython",
    "version": 3
   },
   "file_extension": ".py",
   "mimetype": "text/x-python",
   "name": "python",
   "nbconvert_exporter": "python",
   "pygments_lexer": "ipython3",
   "version": "3.13.1"
  }
 },
 "nbformat": 4,
 "nbformat_minor": 5
}
