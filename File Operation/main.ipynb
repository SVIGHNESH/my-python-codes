{
 "cells": [
  {
   "cell_type": "code",
   "execution_count": 1,
   "id": "1e6d271d-9923-46ea-b5e3-71871b267370",
   "metadata": {},
   "outputs": [
    {
     "name": "stdout",
     "output_type": "stream",
     "text": [
      "1 have the base of the 2 and it will be 10 \n"
     ]
    }
   ],
   "source": [
    "file = open('example.txt','r')\n",
    "content = file.read()\n",
    "print(content)"
   ]
  },
  {
   "cell_type": "code",
   "execution_count": 4,
   "id": "d7083f5d-dc39-4b16-8361-5bccc8d8b968",
   "metadata": {},
   "outputs": [
    {
     "name": "stdout",
     "output_type": "stream",
     "text": [
      "One Two Three Four FIve Six Seven Eight Nine \n"
     ]
    }
   ],
   "source": [
    "with open(\"akshat.txt\" , \"r\") as file:\n",
    "    numbers = file.read().splitlines()\n",
    "\n",
    "dict = { 0:\"Zero\" , 1:\"One\" , 2:\"Two\" , 3:\"Three\" , 4:\"Four\" , 5:\"FIve\" , 6:\"Six\" , 7:\"Seven\" , 8:\"Eight\" , 9:\"Nine\" }\n",
    "for num in numbers:\n",
    "    for i in num:\n",
    "        if i.isdigit():\n",
    "            print(dict[int(i)] , end = \" \")\n",
    "    print()    "
   ]
  },
  {
   "cell_type": "code",
   "execution_count": null,
   "id": "5732fec6-43b3-4461-a5e9-c9b159d89e7c",
   "metadata": {},
   "outputs": [],
   "source": [
    ".."
   ]
  }
 ],
 "metadata": {
  "kernelspec": {
   "display_name": "Python 3 (ipykernel)",
   "language": "python",
   "name": "python3"
  },
  "language_info": {
   "codemirror_mode": {
    "name": "ipython",
    "version": 3
   },
   "file_extension": ".py",
   "mimetype": "text/x-python",
   "name": "python",
   "nbconvert_exporter": "python",
   "pygments_lexer": "ipython3",
   "version": "3.13.1"
  }
 },
 "nbformat": 4,
 "nbformat_minor": 5
}
