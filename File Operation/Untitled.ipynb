{
 "cells": [
  {
   "cell_type": "code",
   "execution_count": 6,
   "id": "026cf9dc-ead3-4fb9-af24-dee4f39e074a",
   "metadata": {},
   "outputs": [
    {
     "name": "stdout",
     "output_type": "stream",
     "text": [
      "2\n"
     ]
    }
   ],
   "source": [
    "#  linear search \n",
    "\n",
    "\n",
    "def linear_search(arr , target):\n",
    "    for i in range(len(arr)):\n",
    "        if arr[i] == target :\n",
    "            return i \n",
    "            \n",
    "    return -1 \n",
    "\n",
    "arr = [10,20,30,40,50 ] \n",
    "print(linear_search(arr , 30 ))\n",
    "\n",
    "        "
   ]
  },
  {
   "cell_type": "code",
   "execution_count": null,
   "id": "7ef53352-1320-4061-a9a1-d38aa1d16867",
   "metadata": {},
   "outputs": [],
   "source": [
    "# Binary Search \n",
    "\n",
    "def binary_search( arr , target ):\n",
    "    "
   ]
  },
  {
   "cell_type": "code",
   "execution_count": 2,
   "id": "40cceaf0-d653-44f2-b51f-9890c141cd43",
   "metadata": {},
   "outputs": [
    {
     "name": "stdout",
     "output_type": "stream",
     "text": [
      "Updated text:\n",
      "one two three four five six seven eight nine\n"
     ]
    }
   ],
   "source": [
    "# Function to convert number to text representation\n",
    "# Dictionary for single-digit numbers\n",
    "num_to_text = {'0': 'zero', '1': 'one', '2': 'two', '3': 'three', '4': 'four','5': 'five', '6': 'six', '7': 'seven', '8': 'eight', '9': 'nine'}\n",
    "def number_to_text(number_str):\n",
    "    return ' '.join([num_to_text[digit] for digit in number_str])\n",
    "# Function to replace numbers in text with their text representation\n",
    "def replace_numbers_in_text(text):\n",
    "    result = []\n",
    "    i = 0\n",
    "    while i < len(text):\n",
    "        if text[i].isdigit():\n",
    "            num_str = ''\n",
    "            while i < len(text) and text[i].isdigit():\n",
    "                num_str += text[i]\n",
    "                i += 1\n",
    "            result.append(number_to_text(num_str))\n",
    "        else:\n",
    "            result.append(text[i])\n",
    "            i += 1\n",
    "    return ''.join(result)\n",
    "# Function to read, process, and write the file\n",
    "def process_file(filename):\n",
    "    with open(filename, 'r') as file:\n",
    "        text = file.read()\n",
    "        # Replace numbers in the text\n",
    "        updated_text = replace_numbers_in_text(text)\n",
    "    with open(filename, 'w') as file:\n",
    "        file.write(updated_text)\n",
    "        print(f\"Updated text:\\n{updated_text}\")\n",
    "    # Example usage\n",
    "filename = 'akshat.txt'\n",
    "process_file(filename)"
   ]
  },
  {
   "cell_type": "code",
   "execution_count": 4,
   "id": "bf52d458-e0ff-454c-8c3c-8fa92b4fd6bb",
   "metadata": {},
   "outputs": [
    {
     "name": "stdout",
     "output_type": "stream",
     "text": [
      "Replacement successful!\n",
      "Updated content:\n",
      "one two three four five six seven eight nine\n"
     ]
    }
   ],
   "source": [
    "# Function to replace words in a file\n",
    "def replace_word_in_file(file_path, old_word, new_word):\n",
    "    try:\n",
    "        # Read the file content\n",
    "        with open(file_path, 'r') as file:\n",
    "            content = file.read()\n",
    "\n",
    "        # Replace the specified word\n",
    "        updated_content = content.replace(old_word, new_word)\n",
    "\n",
    "        # Write the updated content back to the file\n",
    "        with open(file_path, 'w') as file:\n",
    "            file.write(updated_content)\n",
    "\n",
    "        print(\"Replacement successful!\")\n",
    "        print(\"Updated content:\")\n",
    "        print(updated_content)\n",
    "\n",
    "    except FileNotFoundError:\n",
    "        print(\"Error: File not found.\")\n",
    "    except Exception as e:\n",
    "        print(f\"An error occurred: {e}\")\n",
    "\n",
    "# Example usage\n",
    "file_path = \"akshat.txt\"  # Specify the file path\n",
    "old_word = input(\"\n",
    "new_word = \"\"\n",
    "\n",
    "replace_word_in_file(file_path, old_word, new_word)\n"
   ]
  },
  {
   "cell_type": "code",
   "execution_count": 5,
   "id": "773bc481-8f53-45b3-9027-4e4a8db918e8",
   "metadata": {},
   "outputs": [
    {
     "name": "stdin",
     "output_type": "stream",
     "text": [
      "Enter the word to Search Python\n"
     ]
    },
    {
     "ename": "TypeError",
     "evalue": "'int' object is not iterable",
     "output_type": "error",
     "traceback": [
      "\u001b[0;31m---------------------------------------------------------------------------\u001b[0m",
      "\u001b[0;31mTypeError\u001b[0m                                 Traceback (most recent call last)",
      "Cell \u001b[0;32mIn[5], line 4\u001b[0m\n\u001b[1;32m      2\u001b[0m text \u001b[38;5;241m=\u001b[39m file\u001b[38;5;241m.\u001b[39mread()\n\u001b[1;32m      3\u001b[0m a\u001b[38;5;241m=\u001b[39m \u001b[38;5;28minput\u001b[39m(\u001b[38;5;124m\"\u001b[39m\u001b[38;5;124mEnter the word to Search\u001b[39m\u001b[38;5;124m\"\u001b[39m)\n\u001b[0;32m----> 4\u001b[0m \u001b[38;5;28;43;01mfor\u001b[39;49;00m\u001b[43m \u001b[49m\u001b[43mi\u001b[49m\u001b[43m \u001b[49m\u001b[38;5;129;43;01min\u001b[39;49;00m\u001b[43m \u001b[49m\u001b[38;5;28;43mlen\u001b[39;49m\u001b[43m(\u001b[49m\u001b[43mtext\u001b[49m\u001b[43m)\u001b[49m\u001b[43m:\u001b[49m\n\u001b[1;32m      5\u001b[0m \u001b[43m    \u001b[49m\u001b[38;5;28;43;01mif\u001b[39;49;00m\u001b[43m \u001b[49m\u001b[43ma\u001b[49m\u001b[43m \u001b[49m\u001b[38;5;129;43;01min\u001b[39;49;00m\u001b[43m \u001b[49m\u001b[43mtext\u001b[49m\u001b[43m[\u001b[49m\u001b[43mi\u001b[49m\u001b[43m]\u001b[49m\u001b[43m:\u001b[49m\n\u001b[1;32m      6\u001b[0m \u001b[43m        \u001b[49m\u001b[38;5;28;43mprint\u001b[39;49m\u001b[43m(\u001b[49m\u001b[38;5;124;43mf\u001b[39;49m\u001b[38;5;124;43m\"\u001b[39;49m\u001b[38;5;124;43mLIne \u001b[39;49m\u001b[38;5;132;43;01m{\u001b[39;49;00m\u001b[43mi\u001b[49m\u001b[38;5;132;43;01m}\u001b[39;49;00m\u001b[38;5;124;43m:\u001b[39;49m\u001b[38;5;132;43;01m{\u001b[39;49;00m\u001b[43mtext\u001b[49m\u001b[43m[\u001b[49m\u001b[43mi\u001b[49m\u001b[43m]\u001b[49m\u001b[38;5;132;43;01m}\u001b[39;49;00m\u001b[38;5;124;43m\"\u001b[39;49m\u001b[43m)\u001b[49m\n",
      "\u001b[0;31mTypeError\u001b[0m: 'int' object is not iterable"
     ]
    }
   ],
   "source": [
    "file = open(\"akshat.txt\",\"r\")\n",
    "text = file.read()\n",
    "a= input(\"Enter the word to Search\")\n",
    "for i in len(text):\n",
    "    if a in text[i]:\n",
    "        print(f\"LIne {i}:{text[i]}\")"
   ]
  },
  {
   "cell_type": "code",
   "execution_count": null,
   "id": "dda81f09-b22a-476c-a94e-58b66da0e73f",
   "metadata": {},
   "outputs": [],
   "source": []
  }
 ],
 "metadata": {
  "kernelspec": {
   "display_name": "Python 3 (ipykernel)",
   "language": "python",
   "name": "python3"
  },
  "language_info": {
   "codemirror_mode": {
    "name": "ipython",
    "version": 3
   },
   "file_extension": ".py",
   "mimetype": "text/x-python",
   "name": "python",
   "nbconvert_exporter": "python",
   "pygments_lexer": "ipython3",
   "version": "3.13.1"
  }
 },
 "nbformat": 4,
 "nbformat_minor": 5
}
