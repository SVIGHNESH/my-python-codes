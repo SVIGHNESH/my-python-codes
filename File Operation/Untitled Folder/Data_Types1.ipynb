{
 "cells": [
  {
   "cell_type": "code",
   "execution_count": 65,
   "metadata": {},
   "outputs": [
    {
     "name": "stdout",
     "output_type": "stream",
     "text": [
      "[1, 2, 3, 'apple', 'banana']\n",
      "<class 'list'>\n"
     ]
    }
   ],
   "source": [
    "my_tuple = (1, 2, 3, \"apple\", \"banana\")\n",
    "my_list = list(my_tuple)\n",
    "print(my_list)\n",
    "# Expected output: [1, 2, 3, 'apple', 'banana']\n",
    "print(type(my_list))"
   ]
  },
  {
   "cell_type": "code",
   "execution_count": 66,
   "metadata": {},
   "outputs": [
    {
     "name": "stdout",
     "output_type": "stream",
     "text": [
      "2\n",
      "['A', 'A', 'B', 'B', 'C']\n"
     ]
    }
   ],
   "source": [
    "#WAP to count the number of students in a given tuple with grade 'A'\n",
    "t= ('A','B','C','A','B')\n",
    "print(t.count('A'))\n",
    "\n",
    "\n",
    "l = list(t)\n",
    "l.sort()\n",
    "print(l)\n",
    "\n",
    "\n"
   ]
  },
  {
   "cell_type": "markdown",
   "metadata": {},
   "source": [
    "# DICTIONARIES"
   ]
  },
  {
   "cell_type": "code",
   "execution_count": 67,
   "metadata": {},
   "outputs": [
    {
     "name": "stdout",
     "output_type": "stream",
     "text": [
      "{'COA': '62', 'DSA': '54', 'UHV': '31', 'PYTHON': '24'}\n"
     ]
    }
   ],
   "source": [
    "myDict = {\n",
    "    \"Name\" : \"Vighnesh \",\n",
    "    \"Education\" :\"Under Graduate\",\n",
    "    \"Marks\":{\n",
    "        \"COA\":\"62\",\n",
    "        \"DSA\":\"54\",\n",
    "        \"UHV\":\"31\",\n",
    "        \"PYTHON\":\"24\"\n",
    "    }\n",
    "}\n",
    "\n",
    "print(myDict[\"Marks\"])"
   ]
  },
  {
   "cell_type": "code",
   "execution_count": 68,
   "metadata": {},
   "outputs": [
    {
     "name": "stdout",
     "output_type": "stream",
     "text": [
      "['Name', 'Education', 'Marks']\n",
      "<class 'list'>\n",
      "3\n"
     ]
    }
   ],
   "source": [
    "Dict_List =list(myDict.keys())\n",
    "print(Dict_List)\n",
    "print(type(Dict_List))\n",
    "print(len(myDict))"
   ]
  },
  {
   "cell_type": "code",
   "execution_count": 69,
   "metadata": {},
   "outputs": [
    {
     "data": {
      "text/plain": [
       "dict_values(['Vighnesh ', 'Under Graduate', {'COA': '62', 'DSA': '54', 'UHV': '31', 'PYTHON': '24'}])"
      ]
     },
     "execution_count": 69,
     "metadata": {},
     "output_type": "execute_result"
    }
   ],
   "source": [
    "myDict.values()"
   ]
  },
  {
   "cell_type": "code",
   "execution_count": 70,
   "metadata": {},
   "outputs": [
    {
     "data": {
      "text/plain": [
       "{'Name': 'Vighnesh ',\n",
       " 'Education': 'Under Graduate',\n",
       " 'Marks': {'COA': '62', 'DSA': '54', 'UHV': '31', 'PYTHON': '24'},\n",
       " 'Hello': 'HI'}"
      ]
     },
     "execution_count": 70,
     "metadata": {},
     "output_type": "execute_result"
    }
   ],
   "source": [
    "myDict.update({\"Hello\":\"HI\"})\n",
    "myDict"
   ]
  },
  {
   "cell_type": "code",
   "execution_count": 71,
   "metadata": {},
   "outputs": [
    {
     "data": {
      "text/plain": [
       "'Under Graduate'"
      ]
     },
     "execution_count": 71,
     "metadata": {},
     "output_type": "execute_result"
    }
   ],
   "source": [
    "myDict.get(\"Education\")"
   ]
  },
  {
   "cell_type": "code",
   "execution_count": 72,
   "metadata": {},
   "outputs": [
    {
     "data": {
      "text/plain": [
       "dict_items([('Name', 'Vighnesh '), ('Education', 'Under Graduate'), ('Marks', {'COA': '62', 'DSA': '54', 'UHV': '31', 'PYTHON': '24'}), ('Hello', 'HI')])"
      ]
     },
     "execution_count": 72,
     "metadata": {},
     "output_type": "execute_result"
    }
   ],
   "source": [
    "myDict.items()"
   ]
  },
  {
   "cell_type": "markdown",
   "metadata": {},
   "source": [
    "## SETS"
   ]
  },
  {
   "cell_type": "code",
   "execution_count": 73,
   "metadata": {},
   "outputs": [
    {
     "name": "stdout",
     "output_type": "stream",
     "text": [
      "{1, 2, '2', 12, '12'}\n",
      "<class 'set'>\n",
      "5\n"
     ]
    }
   ],
   "source": [
    "collection={12,1,2,1,2,1,\"2\",1,2,12,\"12\"} #it holds only the unique values \n",
    "print(collection)\n",
    "print(type(collection))\n",
    "print(len(collection))  # total number of items\n"
   ]
  },
  {
   "cell_type": "code",
   "execution_count": 74,
   "metadata": {},
   "outputs": [
    {
     "name": "stdout",
     "output_type": "stream",
     "text": [
      "{1, 2, '2', 23, 12, '12'}\n"
     ]
    }
   ],
   "source": [
    "collection.add(23)\n",
    "print(collection)\n"
   ]
  },
  {
   "cell_type": "code",
   "execution_count": 75,
   "metadata": {},
   "outputs": [],
   "source": [
    "collection.remove(\"2\")\n",
    "\n"
   ]
  },
  {
   "cell_type": "code",
   "execution_count": 77,
   "metadata": {},
   "outputs": [
    {
     "data": {
      "text/plain": [
       "{12, '12', 23}"
      ]
     },
     "execution_count": 77,
     "metadata": {},
     "output_type": "execute_result"
    }
   ],
   "source": [
    "c = collection.pop()\n",
    "collection"
   ]
  },
  {
   "cell_type": "code",
   "execution_count": 80,
   "metadata": {},
   "outputs": [
    {
     "data": {
      "text/plain": [
       "{2, 3, 4, 5}"
      ]
     },
     "execution_count": 80,
     "metadata": {},
     "output_type": "execute_result"
    }
   ],
   "source": [
    "a = {1,2,3,4,5}\n",
    "b = {2,3,4,5,6}\n",
    "a.intersection(b)"
   ]
  },
  {
   "cell_type": "code",
   "execution_count": 81,
   "metadata": {},
   "outputs": [
    {
     "data": {
      "text/plain": [
       "{'table': ['a piece of furniture', 'list of facts and Figure'],\n",
       " 'cat': 'a small animal'}"
      ]
     },
     "execution_count": 81,
     "metadata": {},
     "output_type": "execute_result"
    }
   ],
   "source": [
    "#WAP \n",
    "myDict={\n",
    "    \"table\":[\"a piece of furniture\",\"list of facts and Figure\"],\n",
    "    \"cat\":\"a small animal\"\n",
    "}\n",
    "myDict"
   ]
  },
  {
   "cell_type": "code",
   "execution_count": 83,
   "metadata": {},
   "outputs": [
    {
     "name": "stdout",
     "output_type": "stream",
     "text": [
      "5\n"
     ]
    }
   ],
   "source": [
    "set1={\"python\",\"java\",\"c++\",\"python\",\"javaScript\",\"java\",\"python\",\"java\",\"c++\",c}\n",
    "print(len(set1))"
   ]
  },
  {
   "cell_type": "code",
   "execution_count": 86,
   "metadata": {},
   "outputs": [
    {
     "name": "stdout",
     "output_type": "stream",
     "text": [
      "{'subject1': 74, 'subject2': 35, 'subject3': 34}\n"
     ]
    }
   ],
   "source": [
    "#Wap to enter the marks of 3 subject from the user \n",
    "dict1={\n",
    "    \"subject1\":\"\",\n",
    "    \"subject2\":\"\",\n",
    "    \"subject3\":\"\"\n",
    "}\n",
    "\n",
    "marks = int(input(\"Enter the marks of the first subject\"))\n",
    "dict1[\"subject1\"] = marks\n",
    "\n",
    "marks = int(input(\"Enter the marks of the first subject\"))\n",
    "dict1[\"subject2\"] = marks\n",
    "\n",
    "marks = int(input(\"Enter the marks of the first subject\"))\n",
    "dict1[\"subject3\"] = marks\n",
    "\n",
    "print(dict1)\n"
   ]
  },
  {
   "cell_type": "code",
   "execution_count": 89,
   "metadata": {},
   "outputs": [
    {
     "data": {
      "text/plain": [
       "{(float, 9.0), (int, 9)}"
      ]
     },
     "execution_count": 89,
     "metadata": {},
     "output_type": "execute_result"
    }
   ],
   "source": [
    "#Wap to store the 9 and 9.0 in the set \n",
    "values={(int,9),(float,9.0)}\n",
    "values\n"
   ]
  },
  {
   "cell_type": "code",
   "execution_count": null,
   "metadata": {},
   "outputs": [],
   "source": []
  }
 ],
 "metadata": {
  "kernelspec": {
   "display_name": "usr",
   "language": "python",
   "name": "python3"
  },
  "language_info": {
   "codemirror_mode": {
    "name": "ipython",
    "version": 3
   },
   "file_extension": ".py",
   "mimetype": "text/x-python",
   "name": "python",
   "nbconvert_exporter": "python",
   "pygments_lexer": "ipython3",
   "version": "3.13.1"
  }
 },
 "nbformat": 4,
 "nbformat_minor": 2
}
