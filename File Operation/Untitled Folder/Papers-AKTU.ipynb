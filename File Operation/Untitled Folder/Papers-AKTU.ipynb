{
 "cells": [
  {
   "cell_type": "markdown",
   "metadata": {},
   "source": [
    "### Sem3 Python 2023-24"
   ]
  },
  {
   "cell_type": "code",
   "execution_count": 14,
   "metadata": {},
   "outputs": [
    {
     "name": "stdout",
     "output_type": "stream",
     "text": [
      "l&e&a&r&n&.\n"
     ]
    }
   ],
   "source": [
    "def count(s):\n",
    "    for str in s.split():\n",
    "        s = \"&\".join(str)\n",
    "    return s\n",
    "\n",
    "print(count(\"Python is fun to learn.\"))"
   ]
  },
  {
   "cell_type": "code",
   "execution_count": 15,
   "metadata": {},
   "outputs": [
    {
     "ename": "TypeError",
     "evalue": "'str' object does not support item assignment",
     "output_type": "error",
     "traceback": [
      "\u001b[0;31m---------------------------------------------------------------------------\u001b[0m",
      "\u001b[0;31mTypeError\u001b[0m                                 Traceback (most recent call last)",
      "Cell \u001b[0;32mIn[15], line 3\u001b[0m\n\u001b[1;32m      1\u001b[0m x \u001b[38;5;241m=\u001b[39m [\u001b[38;5;241m12\u001b[39m, \u001b[38;5;124m'\u001b[39m\u001b[38;5;124mhello\u001b[39m\u001b[38;5;124m'\u001b[39m, \u001b[38;5;241m456\u001b[39m]\n\u001b[1;32m      2\u001b[0m x[\u001b[38;5;241m0\u001b[39m] \u001b[38;5;241m=\u001b[39m \u001b[38;5;124m'\u001b[39m\u001b[38;5;124m23\u001b[39m\u001b[38;5;124m'\u001b[39m\n\u001b[0;32m----> 3\u001b[0m \u001b[43mx\u001b[49m\u001b[43m[\u001b[49m\u001b[38;5;241;43m1\u001b[39;49m\u001b[43m]\u001b[49m\u001b[43m[\u001b[49m\u001b[38;5;241;43m2\u001b[39;49m\u001b[43m]\u001b[49m \u001b[38;5;241m=\u001b[39m \u001b[38;5;124m'\u001b[39m\u001b[38;5;124mbye\u001b[39m\u001b[38;5;124m'\u001b[39m\n",
      "\u001b[0;31mTypeError\u001b[0m: 'str' object does not support item assignment"
     ]
    }
   ],
   "source": [
    "x = [12, 'hello', 456]\n",
    "x[0] = '23'\n",
    "x[1][2] = 'bye'"
   ]
  },
  {
   "cell_type": "code",
   "execution_count": null,
   "metadata": {},
   "outputs": [
    {
     "name": "stdout",
     "output_type": "stream",
     "text": [
      "1   3   4\n",
      "3\n"
     ]
    }
   ],
   "source": [
    "tup =(1,3,4)\n",
    "x,y,z = tup\n",
    "print(x,\" \",y,\" \",z)\n",
    "x =x +2\n",
    "print(x)"
   ]
  },
  {
   "cell_type": "code",
   "execution_count": null,
   "metadata": {},
   "outputs": [
    {
     "name": "stdout",
     "output_type": "stream",
     "text": [
      "[2, 3, 4, 5]\n",
      "[2, 30, 4, 5]\n"
     ]
    }
   ],
   "source": [
    "# q2 a \n",
    "\n",
    "# ii\n",
    "\n",
    "lst = [2,3,4,5]\n",
    "print(lst)\n",
    "\n",
    "lst[1] = 30\n",
    "print(lst)"
   ]
  },
  {
   "cell_type": "code",
   "execution_count": null,
   "metadata": {},
   "outputs": [
    {
     "name": "stdout",
     "output_type": "stream",
     "text": [
      "My Name\n"
     ]
    }
   ],
   "source": [
    "#q2 a \n",
    "\n",
    "# iii\n",
    "\n",
    "str1= \"My\"\n",
    "str2 = \"Name\"\n",
    "print(str1+\" \"+ str2)"
   ]
  },
  {
   "cell_type": "code",
   "execution_count": null,
   "metadata": {},
   "outputs": [
    {
     "name": "stdout",
     "output_type": "stream",
     "text": [
      "[1, 2, 3, 4, 5, 6, 7, 8]\n",
      "[3, 4, 5, 6, 7, 8, 9]\n",
      "[3, 4, 5, 6, 7, 8, 9]\n",
      "[2, 4, 6, 8]\n",
      "[5, 6, 7, 8, 9]\n",
      "[4, 3, 2, 1, 5, 6, 7, 8, 9]\n",
      "[0, 1, 0, 1, 1, 0, 1, 0, 1]\n"
     ]
    }
   ],
   "source": [
    "# q2 c\n",
    "L =[1,2,3,4,5,6,7,8,9]\n",
    "\n",
    "print(L[:-1])\n",
    "\n",
    "print(L[2:len(L)])\n",
    "print(L[2:])\n",
    "\n",
    "#only even positions\n",
    "print(L[1::2]) \n",
    "\n",
    "\n",
    "# list that start from the middle of the list\n",
    "print(L[len(L)//2 : ])\n",
    "\n",
    "# 5. Reverse first half of list\n",
    "middle = len(L) // 2\n",
    "L[:middle] = L[:middle][::-1]\n",
    "print(L)\n",
    "\n",
    "#6 divide each elt of the list by 2 and replace it with remainder \n",
    "L = [x%2 for x in L]\n",
    "print(L)"
   ]
  },
  {
   "cell_type": "code",
   "execution_count": null,
   "metadata": {},
   "outputs": [
    {
     "name": "stdout",
     "output_type": "stream",
     "text": [
      "-1\n"
     ]
    }
   ],
   "source": [
    "def perfect_square(number):\n",
    "    if((number**0.5)**2  == number):\n",
    "        return 1\n",
    "    else:\n",
    "        return -1\n",
    "number = 15\n",
    "print(perfect_square(number))"
   ]
  },
  {
   "cell_type": "code",
   "execution_count": 16,
   "metadata": {},
   "outputs": [
    {
     "name": "stdout",
     "output_type": "stream",
     "text": [
      "\n"
     ]
    }
   ],
   "source": [
    "# Step 1: Open and read the input file\n",
    "with open(\"input.txt\", \"r\") as file:\n",
    "    data = file.read()\n",
    "print(data)\n",
    "\n",
    "# Step 2: Place a comma after each character\n",
    "output = \",\".join(data)  # Adds a comma after every character\n",
    "\n",
    "# Step 3: Write the processed content to the output file\n",
    "with open(\"output.txt\", \"w\") as file:\n",
    "    file.write(output)"
   ]
  },
  {
   "cell_type": "markdown",
   "metadata": {},
   "source": []
  },
  {
   "cell_type": "code",
   "execution_count": 29,
   "metadata": {},
   "outputs": [
    {
     "ename": "ValueError",
     "evalue": "operands could not be broadcast together with shapes (10,) (2,) ",
     "output_type": "error",
     "traceback": [
      "\u001b[0;31m---------------------------------------------------------------------------\u001b[0m",
      "\u001b[0;31mValueError\u001b[0m                                Traceback (most recent call last)",
      "Cell \u001b[0;32mIn[29], line 16\u001b[0m\n\u001b[1;32m     14\u001b[0m plt\u001b[38;5;241m.\u001b[39mbar(x,data[\u001b[38;5;124m\"\u001b[39m\u001b[38;5;124mCalories\u001b[39m\u001b[38;5;124m\"\u001b[39m],label\u001b[38;5;241m=\u001b[39m\u001b[38;5;124m\"\u001b[39m\u001b[38;5;124mCalories\u001b[39m\u001b[38;5;124m\"\u001b[39m,width\u001b[38;5;241m=\u001b[39mbar_width)\n\u001b[1;32m     15\u001b[0m plt\u001b[38;5;241m.\u001b[39mbar(x\u001b[38;5;241m+\u001b[39mbar_width,data[\u001b[38;5;124m\"\u001b[39m\u001b[38;5;124mPotassium\u001b[39m\u001b[38;5;124m\"\u001b[39m],label\u001b[38;5;241m=\u001b[39m\u001b[38;5;124m\"\u001b[39m\u001b[38;5;124mPotassium\u001b[39m\u001b[38;5;124m\"\u001b[39m,width\u001b[38;5;241m=\u001b[39mbar_width)\n\u001b[0;32m---> 16\u001b[0m plt\u001b[38;5;241m.\u001b[39mbar(\u001b[43mx\u001b[49m\u001b[38;5;241;43m+\u001b[39;49m\u001b[38;5;241;43m2\u001b[39;49m\u001b[38;5;241;43m*\u001b[39;49m\u001b[43m[\u001b[49m\u001b[43mbar_width\u001b[49m\u001b[43m]\u001b[49m,data[\u001b[38;5;124m\"\u001b[39m\u001b[38;5;124mFat\u001b[39m\u001b[38;5;124m\"\u001b[39m],label\u001b[38;5;241m=\u001b[39m\u001b[38;5;124m\"\u001b[39m\u001b[38;5;124mFat\u001b[39m\u001b[38;5;124m\"\u001b[39m,width\u001b[38;5;241m=\u001b[39mbar_width)\n\u001b[1;32m     17\u001b[0m plt\u001b[38;5;241m.\u001b[39mtitle(\u001b[38;5;124m\"\u001b[39m\u001b[38;5;124mNutition Values\u001b[39m\u001b[38;5;124m\"\u001b[39m)\n\u001b[1;32m     18\u001b[0m plt\u001b[38;5;241m.\u001b[39mxticks()\n",
      "\u001b[0;31mValueError\u001b[0m: operands could not be broadcast together with shapes (10,) (2,) "
     ]
    },
    {
     "data": {
      "image/png": "[encoded data removed]",
      "text/plain": [
       "<Figure size 640x480 with 1 Axes>"
      ]
     },
     "metadata": {},
     "output_type": "display_data"
    }
   ],
   "source": [
    "import matplotlib.pyplot as plt\n",
    "import numpy as np \n",
    "\n",
    "data ={\n",
    "    \"Food\" :[\"Meat\",\"Banana\",\"Avocados\",\"Sweeet Potatoes\",\"Spinact\",\"Watermelon\",\"Coconut Water\",\"Beans\",\"Legumes\",\"Tomato\"],\n",
    "    \"Calories\":[250,130,140,120,20,20,10,50,40,19],\n",
    "    \"Potassium\":[40,55,20,30,40,32,10,26,25,20],\n",
    "    \"Fat\":[8,5,2,6,1,1.5,0,2,1.5,2]\n",
    "}\n",
    "\n",
    "bar_width = 0.4\n",
    "x = np.arange(len(data[\"Food\"]))\n",
    "\n",
    "plt.bar(x,data[\"Calories\"],label=\"Calories\",width=bar_width)\n",
    "plt.bar(x+bar_width,data[\"Potassium\"],label=\"Potassium\",width=bar_width)\n",
    "plt.bar(x+2*[bar_width],data[\"Fat\"],label=\"Fat\",width=bar_width)\n",
    "plt.title(\"Nutition Values\")\n",
    "plt.xticks()\n",
    "plt.legend()\n",
    "\n",
    "plt.show()"
   ]
  },
  {
   "cell_type": "code",
   "execution_count": 24,
   "metadata": {},
   "outputs": [
    {
     "data": {
      "image/png": "[encoded data removed]",
      "text/plain": [
       "<Figure size 1200x600 with 1 Axes>"
      ]
     },
     "metadata": {},
     "output_type": "display_data"
    }
   ],
   "source": [
    "import matplotlib.pyplot as plt\n",
    "import numpy as np\n",
    "\n",
    "# Given dataset\n",
    "data = {\n",
    "    \"Food\": [\"Meat\", \"Banana\", \"Avocados\", \"Apple\", \"Rice\", \"Bread\", \"Milk\", \"Eggs\", \"Fish\"],\n",
    "    \"Calories\": [250, 130, 140, 95, 200, 265, 150, 155, 206],\n",
    "    \"Proteins\": [20, 1, 2, 0.5, 4, 9, 8, 13, 22],\n",
    "    \"Fats\": [15, 0.3, 15, 0.3, 1, 3, 8, 11, 12]\n",
    "}\n",
    "\n",
    "# Bar width\n",
    "bar_width = 0.2\n",
    "x = np.arange(len(data[\"Food\"]))\n",
    "\n",
    "plt.figure(figsize=(12, 6))\n",
    "plt.bar(x, data[\"Calories\"], width=bar_width, label=\"Calories\", color='blue')\n",
    "plt.bar(x + bar_width, data[\"Proteins\"], width=bar_width, label=\"Proteins\", color='green')\n",
    "plt.bar(x + 2 * bar_width, data[\"Fats\"], width=bar_width, label=\"Fats\", color='red')\n",
    "\n",
    "plt.xlabel(\"Food Items\")\n",
    "plt.ylabel(\"Nutritional Values\")\n",
    "plt.title(\"Nutritional Comparison of Food Items\")\n",
    "plt.xticks(x + bar_width, data[\"Food\"], rotation=45)\n",
    "plt.legend()\n",
    "plt.show()"
   ]
  },
  {
   "cell_type": "code",
   "execution_count": null,
   "metadata": {},
   "outputs": [],
   "source": []
  }
 ],
 "metadata": {
  "kernelspec": {
   "display_name": "usr",
   "language": "python",
   "name": "python3"
  },
  "language_info": {
   "codemirror_mode": {
    "name": "ipython",
    "version": 3
   },
   "file_extension": ".py",
   "mimetype": "text/x-python",
   "name": "python",
   "nbconvert_exporter": "python",
   "pygments_lexer": "ipython3",
   "version": "3.13.1"
  }
 },
 "nbformat": 4,
 "nbformat_minor": 2
}
