{
 "cells": [
  {
   "cell_type": "markdown",
   "metadata": {},
   "source": [
    "### Sem3 Python 2023-24"
   ]
  },
  {
   "cell_type": "code",
   "execution_count": 7,
   "metadata": {},
   "outputs": [
    {
     "name": "stdout",
     "output_type": "stream",
     "text": [
      "l&e&a&r&n&.\n"
     ]
    }
   ],
   "source": [
    "def count(s):\n",
    "    for str in s.split():\n",
    "        s = \"&\".join(str)\n",
    "    return s\n",
    "\n",
    "print(count(\"Python is fun to learn.\"))"
   ]
  },
  {
   "cell_type": "code",
   "execution_count": 10,
   "metadata": {},
   "outputs": [
    {
     "ename": "TypeError",
     "evalue": "'str' object does not support item assignment",
     "output_type": "error",
     "traceback": [
      "\u001b[0;31m---------------------------------------------------------------------------\u001b[0m",
      "\u001b[0;31mTypeError\u001b[0m                                 Traceback (most recent call last)",
      "Cell \u001b[0;32mIn[10], line 3\u001b[0m\n\u001b[1;32m      1\u001b[0m x \u001b[38;5;241m=\u001b[39m [\u001b[38;5;241m12\u001b[39m, \u001b[38;5;124m'\u001b[39m\u001b[38;5;124mhello\u001b[39m\u001b[38;5;124m'\u001b[39m, \u001b[38;5;241m456\u001b[39m]\n\u001b[1;32m      2\u001b[0m x[\u001b[38;5;241m0\u001b[39m] \u001b[38;5;241m=\u001b[39m \u001b[38;5;124m'\u001b[39m\u001b[38;5;124m23\u001b[39m\u001b[38;5;124m'\u001b[39m\n\u001b[0;32m----> 3\u001b[0m \u001b[43mx\u001b[49m\u001b[43m[\u001b[49m\u001b[38;5;241;43m1\u001b[39;49m\u001b[43m]\u001b[49m\u001b[43m[\u001b[49m\u001b[38;5;241;43m2\u001b[39;49m\u001b[43m]\u001b[49m \u001b[38;5;241m=\u001b[39m \u001b[38;5;124m'\u001b[39m\u001b[38;5;124mbye\u001b[39m\u001b[38;5;124m'\u001b[39m\n",
      "\u001b[0;31mTypeError\u001b[0m: 'str' object does not support item assignment"
     ]
    }
   ],
   "source": [
    "x = [12, 'hello', 456]\n",
    "x[0] = '23'\n",
    "x[1][2] = 'bye'"
   ]
  },
  {
   "cell_type": "code",
   "execution_count": 13,
   "metadata": {},
   "outputs": [
    {
     "name": "stdout",
     "output_type": "stream",
     "text": [
      "1   3   4\n",
      "3\n"
     ]
    }
   ],
   "source": [
    "tup =(1,3,4)\n",
    "x,y,z = tup\n",
    "print(x,\" \",y,\" \",z)\n",
    "x =x +2\n",
    "print(x)"
   ]
  },
  {
   "cell_type": "code",
   "execution_count": 15,
   "metadata": {},
   "outputs": [
    {
     "name": "stdout",
     "output_type": "stream",
     "text": [
      "[2, 3, 4, 5]\n",
      "[2, 30, 4, 5]\n"
     ]
    }
   ],
   "source": [
    "# q2 a \n",
    "\n",
    "# ii\n",
    "\n",
    "lst = [2,3,4,5]\n",
    "print(lst)\n",
    "\n",
    "lst[1] = 30\n",
    "print(lst)"
   ]
  },
  {
   "cell_type": "code",
   "execution_count": 16,
   "metadata": {},
   "outputs": [
    {
     "name": "stdout",
     "output_type": "stream",
     "text": [
      "My Name\n"
     ]
    }
   ],
   "source": [
    "#q2 a \n",
    "\n",
    "# iii\n",
    "\n",
    "str1= \"My\"\n",
    "str2 = \"Name\"\n",
    "print(str1+\" \"+ str2)"
   ]
  },
  {
   "cell_type": "code",
   "execution_count": 1,
   "metadata": {},
   "outputs": [
    {
     "name": "stdout",
     "output_type": "stream",
     "text": [
      "[1, 2, 3, 4, 5, 6, 7, 8]\n",
      "[3, 4, 5, 6, 7, 8, 9]\n",
      "[3, 4, 5, 6, 7, 8, 9]\n",
      "[2, 4, 6, 8]\n",
      "[5, 6, 7, 8, 9]\n",
      "[4, 3, 2, 1, 5, 6, 7, 8, 9]\n",
      "[0, 1, 0, 1, 1, 0, 1, 0, 1]\n"
     ]
    }
   ],
   "source": [
    "# q2 c\n",
    "L =[1,2,3,4,5,6,7,8,9]\n",
    "\n",
    "print(L[:-1])\n",
    "\n",
    "print(L[2:len(L)])\n",
    "print(L[2:])\n",
    "\n",
    "#only even positions\n",
    "print(L[1::2]) \n",
    "\n",
    "\n",
    "# list that start from the middle of the list\n",
    "print(L[len(L)//2 : ])\n",
    "\n",
    "# 5. Reverse first half of list\n",
    "middle = len(L) // 2\n",
    "L[:middle] = L[:middle][::-1]\n",
    "print(L)\n",
    "\n",
    "#6 divide each elt of the list by 2 and replace it with remainder \n",
    "L = [x%2 for x in L]\n",
    "print(L)"
   ]
  },
  {
   "cell_type": "code",
   "execution_count": 3,
   "metadata": {},
   "outputs": [
    {
     "name": "stdout",
     "output_type": "stream",
     "text": [
      "-1\n"
     ]
    }
   ],
   "source": [
    "def perfect_square(number):\n",
    "    if((number**0.5)**2  == number):\n",
    "        return 1\n",
    "    else:\n",
    "        return -1\n",
    "number = 15\n",
    "print(perfect_square(number))"
   ]
  },
  {
   "cell_type": "code",
   "execution_count": 13,
   "metadata": {},
   "outputs": [
    {
     "name": "stdout",
     "output_type": "stream",
     "text": [
      "\n"
     ]
    }
   ],
   "source": [
    "# Step 1: Open and read the input file\n",
    "with open(\"input.txt\", \"r\") as file:\n",
    "    data = file.read()\n",
    "    print(data)\n",
    "\n",
    "# Step 2: Place a comma after each character\n",
    "output = \",\".join(data)  # Adds a comma after every character\n",
    "\n",
    "# Step 3: Write the processed content to the output file\n",
    "with open(\"output.txt\", \"w\") as file:\n",
    "    file.write(output)"
   ]
  },
  {
   "cell_type": "markdown",
   "metadata": {},
   "source": [
    "## Section C"
   ]
  },
  {
   "cell_type": "code",
   "execution_count": 1,
   "metadata": {},
   "outputs": [
    {
     "name": "stdout",
     "output_type": "stream",
     "text": [
      "Mngo\n"
     ]
    }
   ],
   "source": [
    "#Q3 a\n",
    "\n",
    "def removenth(s,n):\n",
    "    if n>= len(s) & n <0:\n",
    "        return s\n",
    "    else:\n",
    "        return s[:n]+s[n+1:]\n",
    "print(removenth(\"Mango\",1))"
   ]
  },
  {
   "cell_type": "code",
   "execution_count": 4,
   "metadata": {},
   "outputs": [
    {
     "name": "stdin",
     "output_type": "stream",
     "text": [
      "Enter the comma separated sequences of words: hello,my,name,is,what\n"
     ]
    },
    {
     "name": "stdout",
     "output_type": "stream",
     "text": [
      "hello,is,my,name,what\n"
     ]
    }
   ],
   "source": [
    "#Q3 b\n",
    "words = input(\"Enter the comma separated sequences of words:\")\n",
    "words = words.split(\",\")\n",
    "\n",
    "sorted_words = \",\".join(sorted(word.strip() for word in words))\n",
    "print(sorted_words)"
   ]
  },
  {
   "cell_type": "code",
   "execution_count": 6,
   "metadata": {},
   "outputs": [
    {
     "name": "stdin",
     "output_type": "stream",
     "text": [
      "Enter the comma separated sequences of words: hello,my,is,lakhan\n"
     ]
    },
    {
     "name": "stdout",
     "output_type": "stream",
     "text": [
      "hello,is,lakhan,my\n"
     ]
    }
   ],
   "source": [
    "words = input(\"Enter the comma separated sequences of words:\")\n",
    "words = words.split(\",\")\n",
    "words = sorted(words)\n",
    "words = \",\".join(words)\n",
    "print(words)"
   ]
  },
  {
   "cell_type": "code",
   "execution_count": 7,
   "metadata": {},
   "outputs": [],
   "source": []
  },
  {
   "cell_type": "code",
   "execution_count": 11,
   "metadata": {},
   "outputs": [
    {
     "name": "stdin",
     "output_type": "stream",
     "text": [
      "Enter the sequence of comma separated passwords: Smr@tunjay7,Vighnnesh0\n"
     ]
    },
    {
     "name": "stdout",
     "output_type": "stream",
     "text": [
      "Smr@tunjay7,Vighnnesh0\n"
     ]
    }
   ],
   "source": [
    "import re\n",
    "\n",
    "def is_valid_password(password):\n",
    "    if((6<=len(password) <= 12) and\n",
    "       re.search(r\"[A-Z]\",password) and\n",
    "       re.search(r\"[a-z]\",password) and\n",
    "       re.search(r\"[0-9]\",password) and\n",
    "       re.search(r\"[@#$]\",password)):\n",
    "        return True\n",
    "    return False\n",
    "valid_PassWords = []\n",
    "passwords=input(\"Enter the sequence of comma separated passwords:\")\n",
    "passwords = passwords.split()\n",
    "for password in passwords:\n",
    "    password = password.strip()\n",
    "    if is_valid_password:\n",
    "        valid_PassWords.append(password)\n",
    "result  = \",\".join(valid_PassWords)\n",
    "print(result)        "
   ]
  },
  {
   "cell_type": "code",
   "execution_count": 15,
   "metadata": {},
   "outputs": [
    {
     "name": "stdout",
     "output_type": "stream",
     "text": [
      "[1, 2324]\n"
     ]
    }
   ],
   "source": [
    "def ret_smaller(nested_list):\n",
    "    return min(nested_list,key = len)\n",
    "print(ret_smaller([[1,2,3],[21,3,54,2,64,2],[1,2324],[\"e\",\"RFED\",\"AFK\"]]))"
   ]
  },
  {
   "cell_type": "code",
   "execution_count": 19,
   "metadata": {},
   "outputs": [
    {
     "name": "stdout",
     "output_type": "stream",
     "text": [
      "2\n",
      "3\n",
      "5\n"
     ]
    }
   ],
   "source": [
    "def print_digit_word(text):\n",
    "    words = text.split()\n",
    "    for word in words:\n",
    "        if word.isdigit():\n",
    "            print(word)\n",
    "with open(\"input.txt\",\"r\") as f:\n",
    "    data = f.read()\n",
    "print_digit_word(data)\n",
    "    "
   ]
  },
  {
   "cell_type": "code",
   "execution_count": 21,
   "metadata": {},
   "outputs": [
    {
     "name": "stdout",
     "output_type": "stream",
     "text": [
      "D\n"
     ]
    }
   ],
   "source": [
    "num = 68\n",
    "print(chr(num))"
   ]
  },
  {
   "cell_type": "code",
   "execution_count": 23,
   "metadata": {},
   "outputs": [
    {
     "name": "stdout",
     "output_type": "stream",
     "text": [
      "[[1. 0. 0.]\n",
      " [0. 1. 0.]\n",
      " [0. 0. 1.]]\n"
     ]
    }
   ],
   "source": [
    "import numpy as np\n",
    "identity = np.eye(3)\n",
    "print(identity)"
   ]
  },
  {
   "cell_type": "code",
   "execution_count": 29,
   "metadata": {},
   "outputs": [
    {
     "ename": "TypeError",
     "evalue": "'list' object is not callable",
     "output_type": "error",
     "traceback": [
      "\u001b[0;31m---------------------------------------------------------------------------\u001b[0m",
      "\u001b[0;31mTypeError\u001b[0m                                 Traceback (most recent call last)",
      "Cell \u001b[0;32mIn[29], line 3\u001b[0m\n\u001b[1;32m      1\u001b[0m numbers \u001b[38;5;241m=\u001b[39m [\u001b[38;5;241m1\u001b[39m, \u001b[38;5;241m2\u001b[39m, \u001b[38;5;241m2\u001b[39m, \u001b[38;5;241m3\u001b[39m, \u001b[38;5;241m4\u001b[39m, \u001b[38;5;241m4\u001b[39m, \u001b[38;5;241m5\u001b[39m]\n\u001b[1;32m      2\u001b[0m unset\u001b[38;5;241m=\u001b[39m\u001b[38;5;28mset\u001b[39m(numbers)\n\u001b[0;32m----> 3\u001b[0m unique_numbers \u001b[38;5;241m=\u001b[39m \u001b[38;5;28;43mlist\u001b[39;49m\u001b[43m(\u001b[49m\u001b[43munset\u001b[49m\u001b[43m)\u001b[49m\n",
      "\u001b[0;31mTypeError\u001b[0m: 'list' object is not callable"
     ]
    }
   ],
   "source": [
    "\n",
    "numbers = [1, 2, 2, 3, 4, 4, 5]\n",
    "unset=set(numbers)\n",
    "unique_numbers = list(unset)\n",
    "  "
   ]
  },
  {
   "cell_type": "code",
   "execution_count": 30,
   "metadata": {},
   "outputs": [
    {
     "name": "stdout",
     "output_type": "stream",
     "text": [
      "611\n"
     ]
    }
   ],
   "source": [
    "l3=[23,43,2,534,2,4,3]\n",
    "sum = 0\n",
    "for i in l3:\n",
    "    sum +=i\n",
    "print(sum)"
   ]
  },
  {
   "cell_type": "code",
   "execution_count": null,
   "metadata": {},
   "outputs": [],
   "source": []
  }
 ],
 "metadata": {
  "kernelspec": {
   "display_name": "Python 3 (ipykernel)",
   "language": "python",
   "name": "python3"
  },
  "language_info": {
   "codemirror_mode": {
    "name": "ipython",
    "version": 3
   },
   "file_extension": ".py",
   "mimetype": "text/x-python",
   "name": "python",
   "nbconvert_exporter": "python",
   "pygments_lexer": "ipython3",
   "version": "3.13.1"
  }
 },
 "nbformat": 4,
 "nbformat_minor": 4
}
