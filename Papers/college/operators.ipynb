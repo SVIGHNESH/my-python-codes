{
 "cells": [
  {
   "cell_type": "markdown",
   "metadata": {},
   "source": [
    "# strings"
   ]
  },
  {
   "cell_type": "code",
   "execution_count": 13,
   "metadata": {},
   "outputs": [
    {
     "name": "stdout",
     "output_type": "stream",
     "text": [
      "THIS IS ME HERE HANDLING THE STRINGS.\n",
      "this is me here handling the strings.\n",
      "This is me here handling the strings.\n",
      "False\n",
      "False\n",
      "Tjis is me jere jandling tje strings.\n",
      "4\n",
      "-1\n",
      "This Is Me Here Handling The Strings.\n"
     ]
    }
   ],
   "source": [
    "string=\"this is me here handling the Strings.\"\n",
    "string=string.upper()\n",
    "print(string)\n",
    "string = string.lower()\n",
    "print(string)\n",
    "string = string.capitalize()\n",
    "print(string)\n",
    "print(string.endswith(\"e\"))\n",
    "\n",
    "print(string.startswith(\"t\"))\n",
    "print(string.replace(\"h\",\"j\"))\n",
    "print(string.count(\"i\"))\n",
    "print(string.find(\"j\"))\n",
    "string = string.title()\n",
    "print(string)\n",
    "\n"
   ]
  },
  {
   "cell_type": "code",
   "execution_count": 14,
   "metadata": {},
   "outputs": [
    {
     "name": "stdout",
     "output_type": "stream",
     "text": [
      "['My Name ', 's the on the board.']\n",
      "['My', 'Name', 'is', 'the', 'on', 'the', 'board.']\n"
     ]
    }
   ],
   "source": [
    "str = \"My Name is the on the board.\"\n",
    "print(str.split(\"i\"))\n",
    "print(str.split())"
   ]
  },
  {
   "cell_type": "code",
   "execution_count": 15,
   "metadata": {},
   "outputs": [
    {
     "name": "stdout",
     "output_type": "stream",
     "text": [
      "['My', 'Name', 'is', 'the', 'on', 'the', 'board.']\n",
      "My Name is the on the board.\n"
     ]
    }
   ],
   "source": [
    "list1 = str.split()\n",
    "print(list1)\n",
    "string1 = \" \".join(list1)\n",
    "print(string1)"
   ]
  },
  {
   "cell_type": "markdown",
   "metadata": {},
   "source": [
    "# List "
   ]
  },
  {
   "cell_type": "code",
   "execution_count": null,
   "metadata": {},
   "outputs": [
    {
     "name": "stdout",
     "output_type": "stream",
     "text": [
      "apple\n"
     ]
    }
   ],
   "source": [
    "\n",
    "\n",
    "print(list[0])"
   ]
  },
  {
   "cell_type": "code",
   "execution_count": null,
   "metadata": {},
   "outputs": [
    {
     "ename": "AttributeError",
     "evalue": "'NoneType' object has no attribute 'append'",
     "output_type": "error",
     "traceback": [
      "\u001b[0;31m---------------------------------------------------------------------------\u001b[0m",
      "\u001b[0;31mAttributeError\u001b[0m                            Traceback (most recent call last)",
      "Cell \u001b[0;32mIn[19], line 1\u001b[0m\n\u001b[0;32m----> 1\u001b[0m \u001b[38;5;28;43mlist\u001b[39;49m\u001b[38;5;241;43m.\u001b[39;49m\u001b[43mappend\u001b[49m(\u001b[38;5;124m\"\u001b[39m\u001b[38;5;124mmango\u001b[39m\u001b[38;5;124m\"\u001b[39m)\n\u001b[1;32m      2\u001b[0m lst \u001b[38;5;241m=\u001b[39m \u001b[38;5;28mlist\u001b[39m\n\u001b[1;32m      3\u001b[0m \u001b[38;5;28mprint\u001b[39m(lst)\n",
      "\u001b[0;31mAttributeError\u001b[0m: 'NoneType' object has no attribute 'append'"
     ]
    }
   ],
   "source": [
    "list.append(\"mango\")\n",
    "lst = list\n",
    "print(lst)\n"
   ]
  },
  {
   "cell_type": "code",
   "execution_count": null,
   "metadata": {},
   "outputs": [],
   "source": []
  }
 ],
 "metadata": {
  "kernelspec": {
   "display_name": "usr",
   "language": "python",
   "name": "python3"
  },
  "language_info": {
   "codemirror_mode": {
    "name": "ipython",
    "version": 3
   },
   "file_extension": ".py",
   "mimetype": "text/x-python",
   "name": "python",
   "nbconvert_exporter": "python",
   "pygments_lexer": "ipython3",
   "version": "3.13.2"
  }
 },
 "nbformat": 4,
 "nbformat_minor": 2
}
