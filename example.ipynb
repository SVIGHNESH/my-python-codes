{
 "cells": [
  {
   "cell_type": "markdown",
   "metadata": {},
   "source": [
    "### Sem3 Python 2023-24"
   ]
  },
  {
   "cell_type": "code",
   "execution_count": 7,
   "metadata": {},
   "outputs": [
    {
     "name": "stdout",
     "output_type": "stream",
     "text": [
      "l&e&a&r&n&.\n"
     ]
    }
   ],
   "source": [
    "def count(s):\n",
    "    for str in s.split():\n",
    "        s = \"&\".join(str)\n",
    "    return s\n",
    "\n",
    "print(count(\"Python is fun to learn.\"))"
   ]
  },
  {
   "cell_type": "code",
   "execution_count": 10,
   "metadata": {},
   "outputs": [
    {
     "ename": "TypeError",
     "evalue": "'str' object does not support item assignment",
     "output_type": "error",
     "traceback": [
      "\u001b[0;31m---------------------------------------------------------------------------\u001b[0m",
      "\u001b[0;31mTypeError\u001b[0m                                 Traceback (most recent call last)",
      "Cell \u001b[0;32mIn[10], line 3\u001b[0m\n\u001b[1;32m      1\u001b[0m x \u001b[38;5;241m=\u001b[39m [\u001b[38;5;241m12\u001b[39m, \u001b[38;5;124m'\u001b[39m\u001b[38;5;124mhello\u001b[39m\u001b[38;5;124m'\u001b[39m, \u001b[38;5;241m456\u001b[39m]\n\u001b[1;32m      2\u001b[0m x[\u001b[38;5;241m0\u001b[39m] \u001b[38;5;241m=\u001b[39m \u001b[38;5;124m'\u001b[39m\u001b[38;5;124m23\u001b[39m\u001b[38;5;124m'\u001b[39m\n\u001b[0;32m----> 3\u001b[0m \u001b[43mx\u001b[49m\u001b[43m[\u001b[49m\u001b[38;5;241;43m1\u001b[39;49m\u001b[43m]\u001b[49m\u001b[43m[\u001b[49m\u001b[38;5;241;43m2\u001b[39;49m\u001b[43m]\u001b[49m \u001b[38;5;241m=\u001b[39m \u001b[38;5;124m'\u001b[39m\u001b[38;5;124mbye\u001b[39m\u001b[38;5;124m'\u001b[39m\n",
      "\u001b[0;31mTypeError\u001b[0m: 'str' object does not support item assignment"
     ]
    }
   ],
   "source": [
    "x = [12, 'hello', 456]\n",
    "x[0] = '23'\n",
    "x[1][2] = 'bye'"
   ]
  },
  {
   "cell_type": "code",
   "execution_count": 13,
   "metadata": {},
   "outputs": [
    {
     "name": "stdout",
     "output_type": "stream",
     "text": [
      "1   3   4\n",
      "3\n"
     ]
    }
   ],
   "source": [
    "tup =(1,3,4)\n",
    "x,y,z = tup\n",
    "print(x,\" \",y,\" \",z)\n",
    "x =x +2\n",
    "print(x)"
   ]
  },
  {
   "cell_type": "code",
   "execution_count": 15,
   "metadata": {},
   "outputs": [
    {
     "name": "stdout",
     "output_type": "stream",
     "text": [
      "[2, 3, 4, 5]\n",
      "[2, 30, 4, 5]\n"
     ]
    }
   ],
   "source": [
    "# q2 a \n",
    "\n",
    "# ii\n",
    "\n",
    "lst = [2,3,4,5]\n",
    "print(lst)\n",
    "\n",
    "lst[1] = 30\n",
    "print(lst)"
   ]
  },
  {
   "cell_type": "code",
   "execution_count": 16,
   "metadata": {},
   "outputs": [
    {
     "name": "stdout",
     "output_type": "stream",
     "text": [
      "My Name\n"
     ]
    }
   ],
   "source": [
    "#q2 a \n",
    "\n",
    "# iii\n",
    "\n",
    "str1= \"My\"\n",
    "str2 = \"Name\"\n",
    "print(str1+\" \"+ str2)"
   ]
  },
  {
   "cell_type": "code",
   "execution_count": 1,
   "metadata": {},
   "outputs": [
    {
     "name": "stdout",
     "output_type": "stream",
     "text": [
      "[1, 2, 3, 4, 5, 6, 7, 8]\n",
      "[3, 4, 5, 6, 7, 8, 9]\n",
      "[3, 4, 5, 6, 7, 8, 9]\n",
      "[2, 4, 6, 8]\n",
      "[5, 6, 7, 8, 9]\n",
      "[4, 3, 2, 1, 5, 6, 7, 8, 9]\n",
      "[0, 1, 0, 1, 1, 0, 1, 0, 1]\n"
     ]
    }
   ],
   "source": [
    "# q2 c\n",
    "L =[1,2,3,4,5,6,7,8,9]\n",
    "\n",
    "print(L[:-1])\n",
    "\n",
    "print(L[2:len(L)])\n",
    "print(L[2:])\n",
    "\n",
    "#only even positions\n",
    "print(L[1::2]) \n",
    "\n",
    "\n",
    "# list that start from the middle of the list\n",
    "print(L[len(L)//2 : ])\n",
    "\n",
    "# 5. Reverse first half of list\n",
    "middle = len(L) // 2\n",
    "L[:middle] = L[:middle][::-1]\n",
    "print(L)\n",
    "\n",
    "#6 divide each elt of the list by 2 and replace it with remainder \n",
    "L = [x%2 for x in L]\n",
    "print(L)"
   ]
  },
  {
   "cell_type": "code",
   "execution_count": 3,
   "metadata": {},
   "outputs": [
    {
     "name": "stdout",
     "output_type": "stream",
     "text": [
      "-1\n"
     ]
    }
   ],
   "source": [
    "def perfect_square(number):\n",
    "    if((number**0.5)**2  == number):\n",
    "        return 1\n",
    "    else:\n",
    "        return -1\n",
    "number = 15\n",
    "print(perfect_square(number))"
   ]
  },
  {
   "cell_type": "code",
   "execution_count": null,
   "metadata": {},
   "outputs": [],
   "source": []
  }
 ],
 "metadata": {
  "kernelspec": {
   "display_name": "usr",
   "language": "python",
   "name": "python3"
  },
  "language_info": {
   "codemirror_mode": {
    "name": "ipython",
    "version": 3
   },
   "file_extension": ".py",
   "mimetype": "text/x-python",
   "name": "python",
   "nbconvert_exporter": "python",
   "pygments_lexer": "ipython3",
   "version": "3.13.1"
  }
 },
 "nbformat": 4,
 "nbformat_minor": 2
}
