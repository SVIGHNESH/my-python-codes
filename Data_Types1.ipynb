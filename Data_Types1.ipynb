{
 "cells": [
  {
   "cell_type": "code",
   "execution_count": 24,
   "metadata": {},
   "outputs": [
    {
     "name": "stdout",
     "output_type": "stream",
     "text": [
      "[1, 2, 3, 'apple', 'banana']\n",
      "<class 'list'>\n"
     ]
    }
   ],
   "source": [
    "my_tuple = (1, 2, 3, \"apple\", \"banana\")\n",
    "my_list = list(my_tuple)\n",
    "print(my_list)\n",
    "# Expected output: [1, 2, 3, 'apple', 'banana']\n",
    "print(type(my_list))"
   ]
  },
  {
   "cell_type": "code",
   "execution_count": 25,
   "metadata": {},
   "outputs": [
    {
     "name": "stdout",
     "output_type": "stream",
     "text": [
      "2\n",
      "['A', 'A', 'B', 'B', 'C']\n"
     ]
    }
   ],
   "source": [
    "#WAP to count the number of students in a given tuple with grade 'A'\n",
    "t= ('A','B','C','A','B')\n",
    "print(t.count('A'))\n",
    "\n",
    "\n",
    "l = list(t)\n",
    "l.sort()\n",
    "print(l)\n",
    "\n",
    "\n"
   ]
  },
  {
   "cell_type": "markdown",
   "metadata": {},
   "source": [
    "# DICTIONARIES"
   ]
  },
  {
   "cell_type": "code",
   "execution_count": 26,
   "metadata": {},
   "outputs": [
    {
     "name": "stdout",
     "output_type": "stream",
     "text": [
      "{'COA': '62', 'DSA': '54', 'UHV': '31', 'PYTHON': '24'}\n"
     ]
    }
   ],
   "source": [
    "myDict = {\n",
    "    \"Name\" : \"Vighnesh \",\n",
    "    \"Education\" :\"Under Graduate\",\n",
    "    \"Marks\":{\n",
    "        \"COA\":\"62\",\n",
    "        \"DSA\":\"54\",\n",
    "        \"UHV\":\"31\",\n",
    "        \"PYTHON\":\"24\"\n",
    "    }\n",
    "}\n",
    "\n",
    "print(myDict[\"Marks\"])"
   ]
  },
  {
   "cell_type": "code",
   "execution_count": 27,
   "metadata": {},
   "outputs": [
    {
     "name": "stdout",
     "output_type": "stream",
     "text": [
      "['Name', 'Education', 'Marks']\n",
      "<class 'list'>\n",
      "3\n"
     ]
    }
   ],
   "source": [
    "Dict_List =list(myDict.keys())\n",
    "print(Dict_List)\n",
    "print(type(Dict_List))\n",
    "print(len(myDict))"
   ]
  },
  {
   "cell_type": "code",
   "execution_count": 28,
   "metadata": {},
   "outputs": [
    {
     "data": {
      "text/plain": [
       "dict_values(['Vighnesh ', 'Under Graduate', {'COA': '62', 'DSA': '54', 'UHV': '31', 'PYTHON': '24'}])"
      ]
     },
     "execution_count": 28,
     "metadata": {},
     "output_type": "execute_result"
    }
   ],
   "source": [
    "myDict.values()"
   ]
  },
  {
   "cell_type": "code",
   "execution_count": 29,
   "metadata": {},
   "outputs": [
    {
     "data": {
      "text/plain": [
       "{'Name': 'Vighnesh ',\n",
       " 'Education': 'Under Graduate',\n",
       " 'Marks': {'COA': '62', 'DSA': '54', 'UHV': '31', 'PYTHON': '24'},\n",
       " 'Hello': 'HI'}"
      ]
     },
     "execution_count": 29,
     "metadata": {},
     "output_type": "execute_result"
    }
   ],
   "source": [
    "myDict.update({\"Hello\":\"HI\"})\n",
    "myDict"
   ]
  },
  {
   "cell_type": "code",
   "execution_count": 35,
   "metadata": {},
   "outputs": [
    {
     "data": {
      "text/plain": [
       "'Under Graduate'"
      ]
     },
     "execution_count": 35,
     "metadata": {},
     "output_type": "execute_result"
    }
   ],
   "source": [
    "myDict.get(\"Education\")"
   ]
  },
  {
   "cell_type": "code",
   "execution_count": 36,
   "metadata": {},
   "outputs": [
    {
     "data": {
      "text/plain": [
       "dict_items([('Name', 'Vighnesh '), ('Education', 'Under Graduate'), ('Marks', {'COA': '62', 'DSA': '54', 'UHV': '31', 'PYTHON': '24'}), ('Hello', 'HI')])"
      ]
     },
     "execution_count": 36,
     "metadata": {},
     "output_type": "execute_result"
    }
   ],
   "source": [
    "myDict.items()"
   ]
  },
  {
   "cell_type": "markdown",
   "metadata": {},
   "source": [
    "## SETS"
   ]
  },
  {
   "cell_type": "code",
   "execution_count": null,
   "metadata": {},
   "outputs": [
    {
     "name": "stdout",
     "output_type": "stream",
     "text": [
      "{1, 2, '2', 12, '12'}\n",
      "<class 'set'>\n",
      "5\n"
     ]
    }
   ],
   "source": [
    "collection={12,1,2,1,2,1,\"2\",1,2,12,\"12\"} #it holds only the unique values \n",
    "print(collection)\n",
    "print(type(collection))\n",
    "print(len(collection))  # total number of items\n"
   ]
  },
  {
   "cell_type": "code",
   "execution_count": null,
   "metadata": {},
   "outputs": [],
   "source": []
  }
 ],
 "metadata": {
  "kernelspec": {
   "display_name": "usr",
   "language": "python",
   "name": "python3"
  },
  "language_info": {
   "codemirror_mode": {
    "name": "ipython",
    "version": 3
   },
   "file_extension": ".py",
   "mimetype": "text/x-python",
   "name": "python",
   "nbconvert_exporter": "python",
   "pygments_lexer": "ipython3",
   "version": "3.13.1"
  }
 },
 "nbformat": 4,
 "nbformat_minor": 2
}
